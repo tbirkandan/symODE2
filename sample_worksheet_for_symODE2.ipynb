{
 "cells": [
  {
   "cell_type": "code",
   "execution_count": 1,
   "metadata": {},
   "outputs": [],
   "source": [
    "##################################################\n",
    "# This is a sample SageMath session for symODE2. #\n",
    "# Tolga Birkandan                                #\n",
    "# Please send any issues/comments to:            #\n",
    "# birkandant@itu.edu.tr                          #\n",
    "##################################################"
   ]
  },
  {
   "cell_type": "code",
   "execution_count": 2,
   "metadata": {},
   "outputs": [
    {
     "data": {
      "text/html": [
       "<html><script type=\"math/tex; mode=display\">\\newcommand{\\Bold}[1]{\\mathbf{#1}}\\verb|Recurrence|\\phantom{\\verb!x!}\\verb|relation|\\phantom{\\verb!x!}\\verb|of|\\phantom{\\verb!x!}\\verb|the|\\phantom{\\verb!x!}\\verb|hypergeometric|\\phantom{\\verb!x!}\\verb|equation:|</script></html>"
      ],
      "text/latex": [
       "\\begin{math}\n",
       "\\newcommand{\\Bold}[1]{\\mathbf{#1}}\\verb|Recurrence|\\phantom{\\verb!x!}\\verb|relation|\\phantom{\\verb!x!}\\verb|of|\\phantom{\\verb!x!}\\verb|the|\\phantom{\\verb!x!}\\verb|hypergeometric|\\phantom{\\verb!x!}\\verb|equation:|\n",
       "\\end{math}"
      ],
      "text/plain": [
       "'Recurrence relation of the hypergeometric equation:'"
      ]
     },
     "metadata": {},
     "output_type": "display_data"
    },
    {
     "data": {
      "text/html": [
       "<html><script type=\"math/tex; mode=display\">\\newcommand{\\Bold}[1]{\\mathbf{#1}}\\left[C\\left(n + 1\\right) = \\frac{{\\left(a b + {\\left(a + b\\right)} n + n^{2}\\right)} C\\left(n\\right)}{{\\left(c + 1\\right)} n + n^{2} + c}\\right]</script></html>"
      ],
      "text/latex": [
       "\\begin{math}\n",
       "\\newcommand{\\Bold}[1]{\\mathbf{#1}}\\left[C\\left(n + 1\\right) = \\frac{{\\left(a b + {\\left(a + b\\right)} n + n^{2}\\right)} C\\left(n\\right)}{{\\left(c + 1\\right)} n + n^{2} + c}\\right]\n",
       "\\end{math}"
      ],
      "text/plain": [
       "[C(n + 1) == (a*b + (a + b)*n + n^2)*C(n)/((c + 1)*n + n^2 + c)]"
      ]
     },
     "metadata": {},
     "output_type": "display_data"
    }
   ],
   "source": [
    "reset()\n",
    "load('ode2analyzer.sage')\n",
    "#######################\n",
    "# Definitions\n",
    "u = function('u')(x)\n",
    "u(x)=u\n",
    "f1 = function('f1')(x)\n",
    "f2 = function('f2')(x)\n",
    "f3 = function('f3')(x)\n",
    "#######################\n",
    "# Recurrence relation of the hypergeometric equation:\n",
    "show(\"Recurrence relation of the hypergeometric equation:\")\n",
    "var('a,b,c');f1(x)=x*(1-x);f2(x)=(c-(a+b+1)*x);f3(x)=-a*b;\n",
    "myeqn=f1(x)*diff(u(x),x,x)+f2(x)*diff(u(x),x)+f3(x)*u(x)\n",
    "\n",
    "var('r')\n",
    "myrecurrence=find_indices_recurrence(myeqn,u,x,0,r,\"recurrence\").subs(r=0).subs(n=n+1)\n",
    "show(solve(myrecurrence==0,C(n+1)))"
   ]
  },
  {
   "cell_type": "code",
   "execution_count": 3,
   "metadata": {},
   "outputs": [
    {
     "data": {
      "text/html": [
       "<html><script type=\"math/tex; mode=display\">\\newcommand{\\Bold}[1]{\\mathbf{#1}}\\verb|Plot|\\phantom{\\verb!x!}\\verb|of|\\phantom{\\verb!x!}\\verb|the|\\phantom{\\verb!x!}\\verb|recurrence|\\phantom{\\verb!x!}\\verb|relation:|</script></html>"
      ],
      "text/latex": [
       "\\begin{math}\n",
       "\\newcommand{\\Bold}[1]{\\mathbf{#1}}\\verb|Plot|\\phantom{\\verb!x!}\\verb|of|\\phantom{\\verb!x!}\\verb|the|\\phantom{\\verb!x!}\\verb|recurrence|\\phantom{\\verb!x!}\\verb|relation:|\n",
       "\\end{math}"
      ],
      "text/plain": [
       "'Plot of the recurrence relation:'"
      ]
     },
     "metadata": {},
     "output_type": "display_data"
    },
    {
     "data": {
      "image/png": "[encoded data removed]",
      "text/plain": [
       "Graphics object consisting of 2 graphics primitives"
      ]
     },
     "metadata": {},
     "output_type": "display_data"
    }
   ],
   "source": [
    "show('Plot of the recurrence relation:')\n",
    "\n",
    "# Recurrence relation of the hypergeometric equation\n",
    "def hypfromrecurrence(a,b,c,x):\n",
    "    machineepsilon=abs((7./3)-(4./3)-1)\n",
    "    Cn=1\n",
    "    n=0\n",
    "    result=1\n",
    "    while True:\n",
    "        coeff=(a*b + (a + b)*n + n^2)*(Cn)/((c + 1)*n + n^2 + c)\n",
    "        newterm=coeff*(x^(n+1))\n",
    "        if abs(newterm)<machineepsilon:\n",
    "            break\n",
    "        else:\n",
    "            result=result+newterm\n",
    "            Cn=coeff\n",
    "            n=n+1\n",
    "    return result\n",
    "\n",
    "a=5\n",
    "b=-10\n",
    "c=1\n",
    "\n",
    "hypsage(x)=hypergeometric([a,b],[c],x)\n",
    "\n",
    "p1=plot(hypsage,(x,-0.023,0.7),legend_label='SageMath',axes_labels=[r'$x$', r'$_2F_1$([5,-10],[1],x)'])\n",
    "p2=plot(hypfromrecurrence(a,b,c,x),(x,-0.023,0.7),legend_label='Recurrence relation',plot_points=10, linestyle='', marker='.',color='red')\n",
    "(p1+p2).show()"
   ]
  },
  {
   "cell_type": "code",
   "execution_count": 4,
   "metadata": {},
   "outputs": [
    {
     "data": {
      "text/html": [
       "<html><script type=\"math/tex; mode=display\">\\newcommand{\\Bold}[1]{\\mathbf{#1}}{\\left({\\left(a_{1} + 1\\right)} n^{2} - {\\left(a_{1} - 1\\right)} \\delta - a_{1} \\gamma + {\\left({\\left(a_{1} - 1\\right)} \\delta + a_{1} \\gamma - 3 \\, a_{1} + \\alpha + \\beta - 2\\right)} n + 2 \\, a_{1} - \\alpha - \\beta + q + 1\\right)} C\\left(n - 1\\right) - {\\left({\\left(\\alpha - 2\\right)} \\beta + {\\left(\\alpha + \\beta - 4\\right)} n + n^{2} - 2 \\, \\alpha + 4\\right)} C\\left(n - 2\\right) - {\\left(a_{1} n^{2} + {\\left(a_{1} \\gamma - a_{1}\\right)} n\\right)} C\\left(n\\right)</script></html>"
      ],
      "text/latex": [
       "\\begin{math}\n",
       "\\newcommand{\\Bold}[1]{\\mathbf{#1}}{\\left({\\left(a_{1} + 1\\right)} n^{2} - {\\left(a_{1} - 1\\right)} \\delta - a_{1} \\gamma + {\\left({\\left(a_{1} - 1\\right)} \\delta + a_{1} \\gamma - 3 \\, a_{1} + \\alpha + \\beta - 2\\right)} n + 2 \\, a_{1} - \\alpha - \\beta + q + 1\\right)} C\\left(n - 1\\right) - {\\left({\\left(\\alpha - 2\\right)} \\beta + {\\left(\\alpha + \\beta - 4\\right)} n + n^{2} - 2 \\, \\alpha + 4\\right)} C\\left(n - 2\\right) - {\\left(a_{1} n^{2} + {\\left(a_{1} \\gamma - a_{1}\\right)} n\\right)} C\\left(n\\right)\n",
       "\\end{math}"
      ],
      "text/plain": [
       "((a1 + 1)*n^2 - (a1 - 1)*delta - a1*gamma + ((a1 - 1)*delta + a1*gamma - 3*a1 + alpha + beta - 2)*n + 2*a1 - alpha - beta + q + 1)*C(n - 1) - ((alpha - 2)*beta + (alpha + beta - 4)*n + n^2 - 2*alpha + 4)*C(n - 2) - (a1*n^2 + (a1*gamma - a1)*n)*C(n)"
      ]
     },
     "metadata": {},
     "output_type": "display_data"
    },
    {
     "data": {
      "image/png": "[encoded data removed]",
      "text/plain": [
       "Graphics object consisting of 4 graphics primitives"
      ]
     },
     "metadata": {},
     "output_type": "display_data"
    }
   ],
   "source": [
    "# Recurrence relation of the general Heun equation\n",
    "reset()\n",
    "load('ode2analyzer.sage')\n",
    "#######################\n",
    "# Definitions\n",
    "u = function('u')(x)\n",
    "u(x)=u\n",
    "f1 = function('f1')(x)\n",
    "f2 = function('f2')(x)\n",
    "f3 = function('f3')(x)\n",
    "#######################\n",
    "# Recurrence relation of the general Heun equation:\n",
    "var('alpha,beta,gamma,delta,epsilon,q,a1');\n",
    "epsilon=alpha+beta+1-gamma-delta;\n",
    "f1(x)=1;\n",
    "f2(x)=(gamma/x)+(delta/(x-1))+(epsilon/(x-a1));\n",
    "f3(x)=(alpha*beta*x-q)/(x*(x-1)*(x-a1))\n",
    "\n",
    "myeqn=f1(x)*diff(u(x),x,x)+f2(x)*diff(u(x),x)+f3(x)*u(x)\n",
    "\n",
    "var('r')\n",
    "myrecurrence=find_indices_recurrence(myeqn,u,x,0,r,\"recurrence\").subs(r=0)\n",
    "show(myrecurrence)\n",
    "\n",
    "def HG(a,q,alpha,beta,gamma,delta,x):\n",
    "    #Solution around z=0\n",
    "    machineepsilon=abs((7./3)-(4./3)-1)\n",
    "    bprevprev=0.0\n",
    "    bprev=1.0\n",
    "    n=1\n",
    "    res=1.0\n",
    "    while True:\n",
    "        P=-(-a1*n^2 - (a1*gamma - a1)*n)\n",
    "        Q=(a1 + 1)*n^2 - (a1 - 1)*delta - a1*gamma + ((a1 - 1)*delta + a1*gamma - 3*a1 + alpha + beta - 2)*n + 2*a1 - alpha - beta + q + 1\n",
    "        R=-(alpha - 2)*beta - (alpha + beta - 4)*n - n^2 + 2*alpha - 4\n",
    "        b=(Q*bprev+R*bprevprev)/P\n",
    "        newterm=b*(x**n)\n",
    "        if abs(newterm)<machineepsilon:\n",
    "            break\n",
    "        elif n>500:\n",
    "            break\n",
    "        else:\n",
    "            res=res+newterm\n",
    "            bprevprev=bprev\n",
    "            bprev=b\n",
    "            n=n+1\n",
    "    return res\n",
    "\n",
    "#var('a,q,alpha,beta,gamma,delta,z')\n",
    "a1=4.0 + I\n",
    "alpha=-0.6 + 0.9*I\n",
    "beta=-0.7*I\n",
    "gamma=-0.18 - 0.03*I\n",
    "delta=0.3 + 0.6*I\n",
    "\n",
    "p=[]\n",
    "q=[-20,-15,-10,-5]\n",
    "colors=['red','green','blue','black']\n",
    "for i in range(len(q)):\n",
    "    p.append(plot(abs(HG(a1,q[i],alpha,beta,gamma,delta,x)),(x,-3.0/10,9.0/10), color=colors[i],axes_labels=[r'$x$', r'$HG(a_1,q,\\alpha,\\beta,\\gamma,\\delta,x)$']))\n",
    "myplot=sum(i for i in p)\n",
    "myplot.show()"
   ]
  },
  {
   "cell_type": "code",
   "execution_count": 5,
   "metadata": {},
   "outputs": [
    {
     "data": {
      "text/html": [
       "<html><script type=\"math/tex; mode=display\">\\newcommand{\\Bold}[1]{\\mathbf{#1}}\\verb|Change|\\phantom{\\verb!x!}\\verb|of|\\phantom{\\verb!x!}\\verb|variables:|</script></html>"
      ],
      "text/latex": [
       "\\begin{math}\n",
       "\\newcommand{\\Bold}[1]{\\mathbf{#1}}\\verb|Change|\\phantom{\\verb!x!}\\verb|of|\\phantom{\\verb!x!}\\verb|variables:|\n",
       "\\end{math}"
      ],
      "text/plain": [
       "'Change of variables:'"
      ]
     },
     "metadata": {},
     "output_type": "display_data"
    },
    {
     "data": {
      "text/html": [
       "<html><script type=\"math/tex; mode=display\">\\newcommand{\\Bold}[1]{\\mathbf{#1}}f_{3}\\left(x\\right) u\\left(x\\right) + f_{2}\\left(x\\right) \\frac{\\partial}{\\partial x}u\\left(x\\right) + f_{1}\\left(x\\right) \\frac{\\partial^{2}}{(\\partial x)^{2}}u\\left(x\\right)</script></html>"
      ],
      "text/latex": [
       "\\begin{math}\n",
       "\\newcommand{\\Bold}[1]{\\mathbf{#1}}f_{3}\\left(x\\right) u\\left(x\\right) + f_{2}\\left(x\\right) \\frac{\\partial}{\\partial x}u\\left(x\\right) + f_{1}\\left(x\\right) \\frac{\\partial^{2}}{(\\partial x)^{2}}u\\left(x\\right)\n",
       "\\end{math}"
      ],
      "text/plain": [
       "f3(x)*u(x) + f2(x)*diff(u(x), x) + f1(x)*diff(u(x), x, x)"
      ]
     },
     "metadata": {},
     "output_type": "display_data"
    },
    {
     "data": {
      "text/html": [
       "<html><script type=\"math/tex; mode=display\">\\newcommand{\\Bold}[1]{\\mathbf{#1}}4 \\, t f_{1}\\left(\\sqrt{t}\\right) \\frac{\\partial^{2}}{(\\partial t)^{2}}u\\left(t\\right) + f_{3}\\left(\\sqrt{t}\\right) u\\left(t\\right) + 2 \\, {\\left(\\sqrt{t} f_{2}\\left(\\sqrt{t}\\right) + f_{1}\\left(\\sqrt{t}\\right)\\right)} \\frac{\\partial}{\\partial t}u\\left(t\\right)</script></html>"
      ],
      "text/latex": [
       "\\begin{math}\n",
       "\\newcommand{\\Bold}[1]{\\mathbf{#1}}4 \\, t f_{1}\\left(\\sqrt{t}\\right) \\frac{\\partial^{2}}{(\\partial t)^{2}}u\\left(t\\right) + f_{3}\\left(\\sqrt{t}\\right) u\\left(t\\right) + 2 \\, {\\left(\\sqrt{t} f_{2}\\left(\\sqrt{t}\\right) + f_{1}\\left(\\sqrt{t}\\right)\\right)} \\frac{\\partial}{\\partial t}u\\left(t\\right)\n",
       "\\end{math}"
      ],
      "text/plain": [
       "4*t*f1(sqrt(t))*diff(u(t), t, t) + f3(sqrt(t))*u(t) + 2*(sqrt(t)*f2(sqrt(t)) + f1(sqrt(t)))*diff(u(t), t)"
      ]
     },
     "metadata": {},
     "output_type": "display_data"
    }
   ],
   "source": [
    "# Change of variables:\n",
    "show('Change of variables:')\n",
    "reset()\n",
    "load('ode2analyzer.sage')\n",
    "#######################  \n",
    "u = function('u')(x)\n",
    "u(x)=u\n",
    "f1 = function('f1')(x)\n",
    "f2 = function('f2')(x)\n",
    "f3 = function('f3')(x)\n",
    "#######################\n",
    "myeqn=f1(x)*diff(u(x),x,x)+f2(x)*diff(u(x),x)+f3(x)*u(x)\n",
    "show(myeqn)\n",
    "var('t') #new variable\n",
    "myresult=ode_change_of_variable(diffeqn=myeqn,y=u,z=x,newvar=t,transformation=sqrt(t))\n",
    "show(myresult)"
   ]
  },
  {
   "cell_type": "code",
   "execution_count": 6,
   "metadata": {},
   "outputs": [
    {
     "data": {
      "text/html": [
       "<html><script type=\"math/tex; mode=display\">\\newcommand{\\Bold}[1]{\\mathbf{#1}}\\verb|Hypergeometric|\\phantom{\\verb!x!}\\verb|and|\\phantom{\\verb!x!}\\verb|Heun|\\phantom{\\verb!x!}\\verb|type|\\phantom{\\verb!x!}\\verb|equations:|</script></html>"
      ],
      "text/latex": [
       "\\begin{math}\n",
       "\\newcommand{\\Bold}[1]{\\mathbf{#1}}\\verb|Hypergeometric|\\phantom{\\verb!x!}\\verb|and|\\phantom{\\verb!x!}\\verb|Heun|\\phantom{\\verb!x!}\\verb|type|\\phantom{\\verb!x!}\\verb|equations:|\n",
       "\\end{math}"
      ],
      "text/plain": [
       "'Hypergeometric and Heun type equations:'"
      ]
     },
     "metadata": {},
     "output_type": "display_data"
    }
   ],
   "source": [
    "# Hypergeometric and Heun type equations:\n",
    "show('Hypergeometric and Heun type equations:')"
   ]
  },
  {
   "cell_type": "code",
   "execution_count": 7,
   "metadata": {},
   "outputs": [
    {
     "data": {
      "text/html": [
       "<html><script type=\"math/tex; mode=display\">\\newcommand{\\Bold}[1]{\\mathbf{#1}}\\verb|Hypergeometric:|</script></html>"
      ],
      "text/latex": [
       "\\begin{math}\n",
       "\\newcommand{\\Bold}[1]{\\mathbf{#1}}\\verb|Hypergeometric:|\n",
       "\\end{math}"
      ],
      "text/plain": [
       "'Hypergeometric:'"
      ]
     },
     "metadata": {},
     "output_type": "display_data"
    },
    {
     "data": {
      "text/html": [
       "<html><script type=\"math/tex; mode=display\">\\newcommand{\\Bold}[1]{\\mathbf{#1}}-a b u\\left(x\\right) - {\\left(x - 1\\right)} x \\frac{\\partial^{2}}{(\\partial x)^{2}}u\\left(x\\right) - {\\left({\\left(a + b + 1\\right)} x - c\\right)} \\frac{\\partial}{\\partial x}u\\left(x\\right)</script></html>"
      ],
      "text/latex": [
       "\\begin{math}\n",
       "\\newcommand{\\Bold}[1]{\\mathbf{#1}}-a b u\\left(x\\right) - {\\left(x - 1\\right)} x \\frac{\\partial^{2}}{(\\partial x)^{2}}u\\left(x\\right) - {\\left({\\left(a + b + 1\\right)} x - c\\right)} \\frac{\\partial}{\\partial x}u\\left(x\\right)\n",
       "\\end{math}"
      ],
      "text/plain": [
       "-a*b*u(x) - (x - 1)*x*diff(u(x), x, x) - ((a + b + 1)*x - c)*diff(u(x), x)"
      ]
     },
     "metadata": {},
     "output_type": "display_data"
    },
    {
     "data": {
      "text/html": [
       "<html><script type=\"math/tex; mode=display\">\\newcommand{\\Bold}[1]{\\mathbf{#1}}\\left(\\left[1, 0, +\\infty\\right], \\left[\\left[-a - b + c, 0\\right], \\left[-c + 1, 0\\right], \\left[b, a\\right]\\right], \\left[\\right], \\left[\\right]\\right)</script></html>"
      ],
      "text/latex": [
       "\\begin{math}\n",
       "\\newcommand{\\Bold}[1]{\\mathbf{#1}}\\left(\\left[1, 0, +\\infty\\right], \\left[\\left[-a - b + c, 0\\right], \\left[-c + 1, 0\\right], \\left[b, a\\right]\\right], \\left[\\right], \\left[\\right]\\right)\n",
       "\\end{math}"
      ],
      "text/plain": [
       "([1, 0, +Infinity], [[-a - b + c, 0], [-c + 1, 0], [b, a]], [], [])"
      ]
     },
     "metadata": {},
     "output_type": "display_data"
    },
    {
     "data": {
      "text/html": [
       "<html><script type=\"math/tex; mode=display\">\\newcommand{\\Bold}[1]{\\mathbf{#1}}\\frac{C_{1} x^{c} \\,_2F_1\\left(\\begin{matrix} a,b \\\\ c \\end{matrix} ; x \\right) + C_{2} x \\,_2F_1\\left(\\begin{matrix} a - c + 1,b - c + 1 \\\\ -c + 2 \\end{matrix} ; x \\right)}{x^{c}}</script></html>"
      ],
      "text/latex": [
       "\\begin{math}\n",
       "\\newcommand{\\Bold}[1]{\\mathbf{#1}}\\frac{C_{1} x^{c} \\,_2F_1\\left(\\begin{matrix} a,b \\\\ c \\end{matrix} ; x \\right) + C_{2} x \\,_2F_1\\left(\\begin{matrix} a - c + 1,b - c + 1 \\\\ -c + 2 \\end{matrix} ; x \\right)}{x^{c}}\n",
       "\\end{math}"
      ],
      "text/plain": [
       "(C1*x^c*hypergeometric((a, b), (c,), x) + C2*x*hypergeometric((a - c + 1, b - c + 1), (-c + 2,), x))/x^c"
      ]
     },
     "metadata": {},
     "output_type": "display_data"
    }
   ],
   "source": [
    "# Hypergeometric:\n",
    "reset()\n",
    "load('hypergeometric_heun.sage') #Routines for the symbolic solutions\n",
    "#######################  \n",
    "u = function('u')(x)\n",
    "u(x)=u\n",
    "f1 = function('f1')(x)\n",
    "f2 = function('f2')(x)\n",
    "f3 = function('f3')(x)\n",
    "#######################\n",
    "show('Hypergeometric:')\n",
    "var('a,b,c');f1(x)=x*(1-x);f2(x)=(c-(a+b+1)*x);f3(x)=-a*b;\n",
    "myeqn=f1(x)*diff(u(x),x,x)+f2(x)*diff(u(x),x)+f3(x)*u(x)\n",
    "show(myeqn)\n",
    "mysingularities=find_singularities(diffeqn=myeqn,y=u,z=x)\n",
    "show(mysingularities)\n",
    "myresult=find_special_ode(diffeqn=myeqn,y=u,z=x)\n",
    "show(myresult)"
   ]
  },
  {
   "cell_type": "code",
   "execution_count": 8,
   "metadata": {},
   "outputs": [
    {
     "data": {
      "text/html": [
       "<html><script type=\"math/tex; mode=display\">\\newcommand{\\Bold}[1]{\\mathbf{#1}}\\verb|Confluent|\\phantom{\\verb!x!}\\verb|hypergeometric:|</script></html>"
      ],
      "text/latex": [
       "\\begin{math}\n",
       "\\newcommand{\\Bold}[1]{\\mathbf{#1}}\\verb|Confluent|\\phantom{\\verb!x!}\\verb|hypergeometric:|\n",
       "\\end{math}"
      ],
      "text/plain": [
       "'Confluent hypergeometric:'"
      ]
     },
     "metadata": {},
     "output_type": "display_data"
    },
    {
     "data": {
      "text/html": [
       "<html><script type=\"math/tex; mode=display\">\\newcommand{\\Bold}[1]{\\mathbf{#1}}-a u\\left(x\\right) + {\\left(b - x\\right)} \\frac{\\partial}{\\partial x}u\\left(x\\right) + x \\frac{\\partial^{2}}{(\\partial x)^{2}}u\\left(x\\right)</script></html>"
      ],
      "text/latex": [
       "\\begin{math}\n",
       "\\newcommand{\\Bold}[1]{\\mathbf{#1}}-a u\\left(x\\right) + {\\left(b - x\\right)} \\frac{\\partial}{\\partial x}u\\left(x\\right) + x \\frac{\\partial^{2}}{(\\partial x)^{2}}u\\left(x\\right)\n",
       "\\end{math}"
      ],
      "text/plain": [
       "-a*u(x) + (b - x)*diff(u(x), x) + x*diff(u(x), x, x)"
      ]
     },
     "metadata": {},
     "output_type": "display_data"
    },
    {
     "data": {
      "text/html": [
       "<html><script type=\"math/tex; mode=display\">\\newcommand{\\Bold}[1]{\\mathbf{#1}}\\left(\\left[0\\right], \\left[\\left[-b + 1, 0\\right]\\right], \\left[+\\infty\\right], \\left[1\\right]\\right)</script></html>"
      ],
      "text/latex": [
       "\\begin{math}\n",
       "\\newcommand{\\Bold}[1]{\\mathbf{#1}}\\left(\\left[0\\right], \\left[\\left[-b + 1, 0\\right]\\right], \\left[+\\infty\\right], \\left[1\\right]\\right)\n",
       "\\end{math}"
      ],
      "text/plain": [
       "([0], [[-b + 1, 0]], [+Infinity], [1])"
      ]
     },
     "metadata": {},
     "output_type": "display_data"
    },
    {
     "data": {
      "text/html": [
       "<html><script type=\"math/tex; mode=display\">\\newcommand{\\Bold}[1]{\\mathbf{#1}}C_{1} M\\left(a, b, x\\right) + C_{2} U\\left(a, b, x\\right)</script></html>"
      ],
      "text/latex": [
       "\\begin{math}\n",
       "\\newcommand{\\Bold}[1]{\\mathbf{#1}}C_{1} M\\left(a, b, x\\right) + C_{2} U\\left(a, b, x\\right)\n",
       "\\end{math}"
      ],
      "text/plain": [
       "C1*hypergeometric_M(a, b, x) + C2*hypergeometric_U(a, b, x)"
      ]
     },
     "metadata": {},
     "output_type": "display_data"
    }
   ],
   "source": [
    "# Confluent hypergeometric:\n",
    "reset()\n",
    "load('hypergeometric_heun.sage') #Routines for the symbolic solutions\n",
    "#######################  \n",
    "u = function('u')(x)\n",
    "u(x)=u\n",
    "f1 = function('f1')(x)\n",
    "f2 = function('f2')(x)\n",
    "f3 = function('f3')(x)\n",
    "#######################\n",
    "show('Confluent hypergeometric:')\n",
    "var('a,b');f1(x)=x;f2(x)=b-x;f3(x)=-a;\n",
    "myeqn=f1(x)*diff(u(x),x,x)+f2(x)*diff(u(x),x)+f3(x)*u(x)\n",
    "show(myeqn)\n",
    "mysingularities=find_singularities(diffeqn=myeqn,y=u,z=x)\n",
    "show(mysingularities)\n",
    "myresult=find_special_ode(diffeqn=myeqn,y=u,z=x)\n",
    "show(myresult)"
   ]
  },
  {
   "cell_type": "code",
   "execution_count": 9,
   "metadata": {},
   "outputs": [
    {
     "data": {
      "text/html": [
       "<html><script type=\"math/tex; mode=display\">\\newcommand{\\Bold}[1]{\\mathbf{#1}}\\verb|General|\\phantom{\\verb!x!}\\verb|Heun:|</script></html>"
      ],
      "text/latex": [
       "\\begin{math}\n",
       "\\newcommand{\\Bold}[1]{\\mathbf{#1}}\\verb|General|\\phantom{\\verb!x!}\\verb|Heun:|\n",
       "\\end{math}"
      ],
      "text/plain": [
       "'General Heun:'"
      ]
     },
     "metadata": {},
     "output_type": "display_data"
    },
    {
     "data": {
      "text/html": [
       "<html><script type=\"math/tex; mode=display\">\\newcommand{\\Bold}[1]{\\mathbf{#1}}-{\\left(\\frac{\\alpha + \\beta - \\delta - \\gamma + 1}{a_{1} - x} - \\frac{\\delta}{x - 1} - \\frac{\\gamma}{x}\\right)} \\frac{\\partial}{\\partial x}u\\left(x\\right) - \\frac{{\\left(\\alpha \\beta x - q\\right)} u\\left(x\\right)}{{\\left(a_{1} - x\\right)} {\\left(x - 1\\right)} x} + \\frac{\\partial^{2}}{(\\partial x)^{2}}u\\left(x\\right)</script></html>"
      ],
      "text/latex": [
       "\\begin{math}\n",
       "\\newcommand{\\Bold}[1]{\\mathbf{#1}}-{\\left(\\frac{\\alpha + \\beta - \\delta - \\gamma + 1}{a_{1} - x} - \\frac{\\delta}{x - 1} - \\frac{\\gamma}{x}\\right)} \\frac{\\partial}{\\partial x}u\\left(x\\right) - \\frac{{\\left(\\alpha \\beta x - q\\right)} u\\left(x\\right)}{{\\left(a_{1} - x\\right)} {\\left(x - 1\\right)} x} + \\frac{\\partial^{2}}{(\\partial x)^{2}}u\\left(x\\right)\n",
       "\\end{math}"
      ],
      "text/plain": [
       "-((alpha + beta - delta - gamma + 1)/(a1 - x) - delta/(x - 1) - gamma/x)*diff(u(x), x) - (alpha*beta*x - q)*u(x)/((a1 - x)*(x - 1)*x) + diff(u(x), x, x)"
      ]
     },
     "metadata": {},
     "output_type": "display_data"
    },
    {
     "data": {
      "text/html": [
       "<html><script type=\"math/tex; mode=display\">\\newcommand{\\Bold}[1]{\\mathbf{#1}}\\left(\\left[a_{1}, 1, 0, +\\infty\\right], \\left[\\left[-\\alpha - \\beta + \\delta + \\gamma, 0\\right], \\left[-\\delta + 1, 0\\right], \\left[-\\gamma + 1, 0\\right], \\left[\\beta, \\alpha\\right]\\right], \\left[\\right], \\left[\\right]\\right)</script></html>"
      ],
      "text/latex": [
       "\\begin{math}\n",
       "\\newcommand{\\Bold}[1]{\\mathbf{#1}}\\left(\\left[a_{1}, 1, 0, +\\infty\\right], \\left[\\left[-\\alpha - \\beta + \\delta + \\gamma, 0\\right], \\left[-\\delta + 1, 0\\right], \\left[-\\gamma + 1, 0\\right], \\left[\\beta, \\alpha\\right]\\right], \\left[\\right], \\left[\\right]\\right)\n",
       "\\end{math}"
      ],
      "text/plain": [
       "([a1, 1, 0, +Infinity],\n",
       " [[-alpha - beta + delta + gamma, 0],\n",
       "  [-delta + 1, 0],\n",
       "  [-gamma + 1, 0],\n",
       "  [beta, alpha]],\n",
       " [],\n",
       " [])"
      ]
     },
     "metadata": {},
     "output_type": "display_data"
    },
    {
     "data": {
      "text/html": [
       "<html><script type=\"math/tex; mode=display\">\\newcommand{\\Bold}[1]{\\mathbf{#1}}C_{2} x^{-\\gamma + 1} {\\rm HG}\\left(a_{1}, -{\\left(a_{1} \\delta + \\alpha + \\beta - \\delta - \\gamma + 1\\right)} {\\left(\\gamma - 1\\right)} + q, \\alpha - \\gamma + 1, \\beta - \\gamma + 1, -\\gamma + 2, \\delta, x\\right) + C_{1} {\\rm HG}\\left(a_{1}, q, \\alpha, \\beta, \\gamma, \\delta, x\\right)</script></html>"
      ],
      "text/latex": [
       "\\begin{math}\n",
       "\\newcommand{\\Bold}[1]{\\mathbf{#1}}C_{2} x^{-\\gamma + 1} {\\rm HG}\\left(a_{1}, -{\\left(a_{1} \\delta + \\alpha + \\beta - \\delta - \\gamma + 1\\right)} {\\left(\\gamma - 1\\right)} + q, \\alpha - \\gamma + 1, \\beta - \\gamma + 1, -\\gamma + 2, \\delta, x\\right) + C_{1} {\\rm HG}\\left(a_{1}, q, \\alpha, \\beta, \\gamma, \\delta, x\\right)\n",
       "\\end{math}"
      ],
      "text/plain": [
       "C2*x^(-gamma + 1)*HG(a1, -(a1*delta + alpha + beta - delta - gamma + 1)*(gamma - 1) + q, alpha - gamma + 1, beta - gamma + 1, -gamma + 2, delta, x) + C1*HG(a1, q, alpha, beta, gamma, delta, x)"
      ]
     },
     "metadata": {},
     "output_type": "display_data"
    }
   ],
   "source": [
    "# General Heun:\n",
    "reset()\n",
    "load('hypergeometric_heun.sage') #Routines for the symbolic solutions\n",
    "#######################  \n",
    "u = function('u')(x)\n",
    "u(x)=u\n",
    "f1 = function('f1')(x)\n",
    "f2 = function('f2')(x)\n",
    "f3 = function('f3')(x)\n",
    "#######################\n",
    "show('General Heun:')\n",
    "var('alpha,beta,gamma,delta,epsilon,q,a1');epsilon=alpha+beta+1-gamma-delta;f1(x)=1;f2(x)=(gamma/x)+(delta/(x-1))+(epsilon/(x-a1));f3(x)=(alpha*beta*x-q)/(x*(x-1)*(x-a1))\n",
    "myeqn=f1(x)*diff(u(x),x,x)+f2(x)*diff(u(x),x)+f3(x)*u(x)\n",
    "show(myeqn)\n",
    "mysingularities=find_singularities(diffeqn=myeqn,y=u,z=x)\n",
    "show(mysingularities)\n",
    "myresult=find_special_ode(diffeqn=myeqn,y=u,z=x)\n",
    "show(myresult)"
   ]
  },
  {
   "cell_type": "code",
   "execution_count": 10,
   "metadata": {},
   "outputs": [
    {
     "data": {
      "text/html": [
       "<html><script type=\"math/tex; mode=display\">\\newcommand{\\Bold}[1]{\\mathbf{#1}}\\verb|(Singly)|\\phantom{\\verb!x!}\\verb|confluent|\\phantom{\\verb!x!}\\verb|Heun:|</script></html>"
      ],
      "text/latex": [
       "\\begin{math}\n",
       "\\newcommand{\\Bold}[1]{\\mathbf{#1}}\\verb|(Singly)|\\phantom{\\verb!x!}\\verb|confluent|\\phantom{\\verb!x!}\\verb|Heun:|\n",
       "\\end{math}"
      ],
      "text/plain": [
       "'(Singly) confluent Heun:'"
      ]
     },
     "metadata": {},
     "output_type": "display_data"
    },
    {
     "data": {
      "text/html": [
       "<html><script type=\"math/tex; mode=display\">\\newcommand{\\Bold}[1]{\\mathbf{#1}}{\\left(\\frac{\\nu}{x - 1} + \\frac{\\mu}{x}\\right)} u\\left(x\\right) + {\\left(\\alpha + \\frac{\\gamma + 1}{x - 1} + \\frac{\\beta + 1}{x}\\right)} \\frac{\\partial}{\\partial x}u\\left(x\\right) + \\frac{\\partial^{2}}{(\\partial x)^{2}}u\\left(x\\right)</script></html>"
      ],
      "text/latex": [
       "\\begin{math}\n",
       "\\newcommand{\\Bold}[1]{\\mathbf{#1}}{\\left(\\frac{\\nu}{x - 1} + \\frac{\\mu}{x}\\right)} u\\left(x\\right) + {\\left(\\alpha + \\frac{\\gamma + 1}{x - 1} + \\frac{\\beta + 1}{x}\\right)} \\frac{\\partial}{\\partial x}u\\left(x\\right) + \\frac{\\partial^{2}}{(\\partial x)^{2}}u\\left(x\\right)\n",
       "\\end{math}"
      ],
      "text/plain": [
       "(nu/(x - 1) + mu/x)*u(x) + (alpha + (gamma + 1)/(x - 1) + (beta + 1)/x)*diff(u(x), x) + diff(u(x), x, x)"
      ]
     },
     "metadata": {},
     "output_type": "display_data"
    },
    {
     "data": {
      "text/html": [
       "<html><script type=\"math/tex; mode=display\">\\newcommand{\\Bold}[1]{\\mathbf{#1}}\\left(\\left[1, 0\\right], \\left[\\left[-\\gamma, 0\\right], \\left[-\\beta, 0\\right]\\right], \\left[+\\infty\\right], \\left[1\\right]\\right)</script></html>"
      ],
      "text/latex": [
       "\\begin{math}\n",
       "\\newcommand{\\Bold}[1]{\\mathbf{#1}}\\left(\\left[1, 0\\right], \\left[\\left[-\\gamma, 0\\right], \\left[-\\beta, 0\\right]\\right], \\left[+\\infty\\right], \\left[1\\right]\\right)\n",
       "\\end{math}"
      ],
      "text/plain": [
       "([1, 0], [[-gamma, 0], [-beta, 0]], [+Infinity], [1])"
      ]
     },
     "metadata": {},
     "output_type": "display_data"
    },
    {
     "data": {
      "text/html": [
       "<html><script type=\"math/tex; mode=display\">\\newcommand{\\Bold}[1]{\\mathbf{#1}}C_{1} {\\rm HC}\\left(\\alpha, \\beta, \\gamma, -\\frac{1}{2} \\, \\alpha \\beta - \\frac{1}{2} \\, \\alpha \\gamma - \\alpha + \\mu + \\nu, \\frac{1}{2} \\, \\alpha \\beta - \\frac{1}{2} \\, \\beta \\gamma + \\frac{1}{2} \\, \\alpha - \\frac{1}{2} \\, \\beta - \\frac{1}{2} \\, \\gamma - \\mu, x\\right) + \\frac{C_{2} {\\rm HC}\\left(\\alpha, -\\beta, \\gamma, -\\frac{1}{2} \\, \\alpha \\beta - \\frac{1}{2} \\, \\alpha \\gamma - \\alpha + \\mu + \\nu, \\frac{1}{2} \\, \\alpha \\beta - \\frac{1}{2} \\, \\beta \\gamma + \\frac{1}{2} \\, \\alpha - \\frac{1}{2} \\, \\beta - \\frac{1}{2} \\, \\gamma - \\mu, x\\right)}{x^{\\beta}}</script></html>"
      ],
      "text/latex": [
       "\\begin{math}\n",
       "\\newcommand{\\Bold}[1]{\\mathbf{#1}}C_{1} {\\rm HC}\\left(\\alpha, \\beta, \\gamma, -\\frac{1}{2} \\, \\alpha \\beta - \\frac{1}{2} \\, \\alpha \\gamma - \\alpha + \\mu + \\nu, \\frac{1}{2} \\, \\alpha \\beta - \\frac{1}{2} \\, \\beta \\gamma + \\frac{1}{2} \\, \\alpha - \\frac{1}{2} \\, \\beta - \\frac{1}{2} \\, \\gamma - \\mu, x\\right) + \\frac{C_{2} {\\rm HC}\\left(\\alpha, -\\beta, \\gamma, -\\frac{1}{2} \\, \\alpha \\beta - \\frac{1}{2} \\, \\alpha \\gamma - \\alpha + \\mu + \\nu, \\frac{1}{2} \\, \\alpha \\beta - \\frac{1}{2} \\, \\beta \\gamma + \\frac{1}{2} \\, \\alpha - \\frac{1}{2} \\, \\beta - \\frac{1}{2} \\, \\gamma - \\mu, x\\right)}{x^{\\beta}}\n",
       "\\end{math}"
      ],
      "text/plain": [
       "C1*HC(alpha, beta, gamma, -1/2*alpha*beta - 1/2*alpha*gamma - alpha + mu + nu, 1/2*alpha*beta - 1/2*beta*gamma + 1/2*alpha - 1/2*beta - 1/2*gamma - mu, x) + C2*HC(alpha, -beta, gamma, -1/2*alpha*beta - 1/2*alpha*gamma - alpha + mu + nu, 1/2*alpha*beta - 1/2*beta*gamma + 1/2*alpha - 1/2*beta - 1/2*gamma - mu, x)/x^beta"
      ]
     },
     "metadata": {},
     "output_type": "display_data"
    }
   ],
   "source": [
    "# (Singly) confluent Heun:\n",
    "reset()\n",
    "load('hypergeometric_heun.sage') #Routines for the symbolic solutions\n",
    "#######################  \n",
    "u = function('u')(x)\n",
    "u(x)=u\n",
    "f1 = function('f1')(x)\n",
    "f2 = function('f2')(x)\n",
    "f3 = function('f3')(x)\n",
    "#######################\n",
    "show('(Singly) confluent Heun:')\n",
    "var('alpha,beta,gamma,mu,nu');f1(x)=1;f2(x)=((beta+1)/x)+((gamma+1)/(x-1))+alpha;f3(x)=(mu/x)+(nu/(x-1))\n",
    "myeqn=f1(x)*diff(u(x),x,x)+f2(x)*diff(u(x),x)+f3(x)*u(x)\n",
    "show(myeqn)\n",
    "mysingularities=find_singularities(diffeqn=myeqn,y=u,z=x)\n",
    "show(mysingularities)\n",
    "myresult=find_special_ode(diffeqn=myeqn,y=u,z=x)\n",
    "show(myresult)"
   ]
  },
  {
   "cell_type": "code",
   "execution_count": 11,
   "metadata": {},
   "outputs": [
    {
     "data": {
      "text/html": [
       "<html><script type=\"math/tex; mode=display\">\\newcommand{\\Bold}[1]{\\mathbf{#1}}\\verb|Double|\\phantom{\\verb!x!}\\verb|confluent|\\phantom{\\verb!x!}\\verb|Heun:|</script></html>"
      ],
      "text/latex": [
       "\\begin{math}\n",
       "\\newcommand{\\Bold}[1]{\\mathbf{#1}}\\verb|Double|\\phantom{\\verb!x!}\\verb|confluent|\\phantom{\\verb!x!}\\verb|Heun:|\n",
       "\\end{math}"
      ],
      "text/plain": [
       "'Double confluent Heun:'"
      ]
     },
     "metadata": {},
     "output_type": "display_data"
    },
    {
     "data": {
      "text/html": [
       "<html><script type=\"math/tex; mode=display\">\\newcommand{\\Bold}[1]{\\mathbf{#1}}{\\left(\\epsilon + \\frac{\\delta}{x} + \\frac{\\gamma}{x^{2}}\\right)} \\frac{\\partial}{\\partial x}u\\left(x\\right) + \\frac{{\\left(\\alpha x - q\\right)} u\\left(x\\right)}{x^{2}} + \\frac{\\partial^{2}}{(\\partial x)^{2}}u\\left(x\\right)</script></html>"
      ],
      "text/latex": [
       "\\begin{math}\n",
       "\\newcommand{\\Bold}[1]{\\mathbf{#1}}{\\left(\\epsilon + \\frac{\\delta}{x} + \\frac{\\gamma}{x^{2}}\\right)} \\frac{\\partial}{\\partial x}u\\left(x\\right) + \\frac{{\\left(\\alpha x - q\\right)} u\\left(x\\right)}{x^{2}} + \\frac{\\partial^{2}}{(\\partial x)^{2}}u\\left(x\\right)\n",
       "\\end{math}"
      ],
      "text/plain": [
       "(epsilon + delta/x + gamma/x^2)*diff(u(x), x) + (alpha*x - q)*u(x)/x^2 + diff(u(x), x, x)"
      ]
     },
     "metadata": {},
     "output_type": "display_data"
    },
    {
     "data": {
      "text/html": [
       "<html><script type=\"math/tex; mode=display\">\\newcommand{\\Bold}[1]{\\mathbf{#1}}\\left(\\left[\\right], \\left[\\right], \\left[0, +\\infty\\right], \\left[1, 1\\right]\\right)</script></html>"
      ],
      "text/latex": [
       "\\begin{math}\n",
       "\\newcommand{\\Bold}[1]{\\mathbf{#1}}\\left(\\left[\\right], \\left[\\right], \\left[0, +\\infty\\right], \\left[1, 1\\right]\\right)\n",
       "\\end{math}"
      ],
      "text/plain": [
       "([], [], [0, +Infinity], [1, 1])"
      ]
     },
     "metadata": {},
     "output_type": "display_data"
    },
    {
     "data": {
      "text/html": [
       "<html><script type=\"math/tex; mode=display\">\\newcommand{\\Bold}[1]{\\mathbf{#1}}\\frac{C_{2} x^{2} {\\rm HD}\\left(\\delta + q - 2, \\alpha - 2 \\, \\epsilon, -\\gamma, -\\delta + 4, -\\epsilon, x\\right) e^{\\left(-\\epsilon x + \\frac{\\gamma}{x}\\right)}}{x^{\\delta}} + C_{1} {\\rm HD}\\left(q, \\alpha, \\gamma, \\delta, \\epsilon, x\\right)</script></html>"
      ],
      "text/latex": [
       "\\begin{math}\n",
       "\\newcommand{\\Bold}[1]{\\mathbf{#1}}\\frac{C_{2} x^{2} {\\rm HD}\\left(\\delta + q - 2, \\alpha - 2 \\, \\epsilon, -\\gamma, -\\delta + 4, -\\epsilon, x\\right) e^{\\left(-\\epsilon x + \\frac{\\gamma}{x}\\right)}}{x^{\\delta}} + C_{1} {\\rm HD}\\left(q, \\alpha, \\gamma, \\delta, \\epsilon, x\\right)\n",
       "\\end{math}"
      ],
      "text/plain": [
       "C2*x^2*HD(delta + q - 2, alpha - 2*epsilon, -gamma, -delta + 4, -epsilon, x)*e^(-epsilon*x + gamma/x)/x^delta + C1*HD(q, alpha, gamma, delta, epsilon, x)"
      ]
     },
     "metadata": {},
     "output_type": "display_data"
    }
   ],
   "source": [
    "# Double confluent Heun:\n",
    "reset()\n",
    "load('hypergeometric_heun.sage') #Routines for the symbolic solutions\n",
    "#######################  \n",
    "u = function('u')(x)\n",
    "u(x)=u\n",
    "f1 = function('f1')(x)\n",
    "f2 = function('f2')(x)\n",
    "f3 = function('f3')(x)\n",
    "#######################\n",
    "show('Double confluent Heun:')\n",
    "var('alpha,gamma,delta,epsilon,q');f1(x)=1;f2(x)=(delta/x)+(gamma/(x^2))+epsilon;f3(x)=(alpha*x-q)/(x^2)\n",
    "myeqn=f1(x)*diff(u(x),x,x)+f2(x)*diff(u(x),x)+f3(x)*u(x)\n",
    "show(myeqn)\n",
    "mysingularities=find_singularities(diffeqn=myeqn,y=u,z=x)\n",
    "show(mysingularities)\n",
    "myresult=find_special_ode(diffeqn=myeqn,y=u,z=x)\n",
    "show(myresult)"
   ]
  },
  {
   "cell_type": "code",
   "execution_count": 12,
   "metadata": {},
   "outputs": [
    {
     "data": {
      "text/html": [
       "<html><script type=\"math/tex; mode=display\">\\newcommand{\\Bold}[1]{\\mathbf{#1}}\\verb|Biconfluent|\\phantom{\\verb!x!}\\verb|Heun:|</script></html>"
      ],
      "text/latex": [
       "\\begin{math}\n",
       "\\newcommand{\\Bold}[1]{\\mathbf{#1}}\\verb|Biconfluent|\\phantom{\\verb!x!}\\verb|Heun:|\n",
       "\\end{math}"
      ],
      "text/plain": [
       "'Biconfluent Heun:'"
      ]
     },
     "metadata": {},
     "output_type": "display_data"
    },
    {
     "data": {
      "text/html": [
       "<html><script type=\"math/tex; mode=display\">\\newcommand{\\Bold}[1]{\\mathbf{#1}}{\\left(\\epsilon x + \\delta + \\frac{\\gamma}{x}\\right)} \\frac{\\partial}{\\partial x}u\\left(x\\right) + \\frac{{\\left(\\alpha x - q\\right)} u\\left(x\\right)}{x} + \\frac{\\partial^{2}}{(\\partial x)^{2}}u\\left(x\\right)</script></html>"
      ],
      "text/latex": [
       "\\begin{math}\n",
       "\\newcommand{\\Bold}[1]{\\mathbf{#1}}{\\left(\\epsilon x + \\delta + \\frac{\\gamma}{x}\\right)} \\frac{\\partial}{\\partial x}u\\left(x\\right) + \\frac{{\\left(\\alpha x - q\\right)} u\\left(x\\right)}{x} + \\frac{\\partial^{2}}{(\\partial x)^{2}}u\\left(x\\right)\n",
       "\\end{math}"
      ],
      "text/plain": [
       "(epsilon*x + delta + gamma/x)*diff(u(x), x) + (alpha*x - q)*u(x)/x + diff(u(x), x, x)"
      ]
     },
     "metadata": {},
     "output_type": "display_data"
    },
    {
     "data": {
      "text/html": [
       "<html><script type=\"math/tex; mode=display\">\\newcommand{\\Bold}[1]{\\mathbf{#1}}\\left(\\left[0\\right], \\left[\\left[-\\gamma + 1, 0\\right]\\right], \\left[+\\infty\\right], \\left[2\\right]\\right)</script></html>"
      ],
      "text/latex": [
       "\\begin{math}\n",
       "\\newcommand{\\Bold}[1]{\\mathbf{#1}}\\left(\\left[0\\right], \\left[\\left[-\\gamma + 1, 0\\right]\\right], \\left[+\\infty\\right], \\left[2\\right]\\right)\n",
       "\\end{math}"
      ],
      "text/plain": [
       "([0], [[-gamma + 1, 0]], [+Infinity], [2])"
      ]
     },
     "metadata": {},
     "output_type": "display_data"
    },
    {
     "data": {
      "text/html": [
       "<html><script type=\"math/tex; mode=display\">\\newcommand{\\Bold}[1]{\\mathbf{#1}}\\frac{C_{2} x {\\rm HB}\\left(\\delta \\gamma - \\delta + q, -\\epsilon \\gamma + \\alpha + \\epsilon, -\\gamma + 2, \\delta, \\epsilon, x\\right)}{x^{\\gamma}} + C_{1} {\\rm HB}\\left(q, \\alpha, \\gamma, \\delta, \\epsilon, x\\right)</script></html>"
      ],
      "text/latex": [
       "\\begin{math}\n",
       "\\newcommand{\\Bold}[1]{\\mathbf{#1}}\\frac{C_{2} x {\\rm HB}\\left(\\delta \\gamma - \\delta + q, -\\epsilon \\gamma + \\alpha + \\epsilon, -\\gamma + 2, \\delta, \\epsilon, x\\right)}{x^{\\gamma}} + C_{1} {\\rm HB}\\left(q, \\alpha, \\gamma, \\delta, \\epsilon, x\\right)\n",
       "\\end{math}"
      ],
      "text/plain": [
       "C2*x*HB(delta*gamma - delta + q, -epsilon*gamma + alpha + epsilon, -gamma + 2, delta, epsilon, x)/x^gamma + C1*HB(q, alpha, gamma, delta, epsilon, x)"
      ]
     },
     "metadata": {},
     "output_type": "display_data"
    }
   ],
   "source": [
    "# Biconfluent Heun:\n",
    "reset()\n",
    "load('hypergeometric_heun.sage') #Routines for the symbolic solutions\n",
    "#######################  \n",
    "u = function('u')(x)\n",
    "u(x)=u\n",
    "f1 = function('f1')(x)\n",
    "f2 = function('f2')(x)\n",
    "f3 = function('f3')(x)\n",
    "#######################\n",
    "show('Biconfluent Heun:')\n",
    "var('alpha,gamma,delta,epsilon,q');f1(x)=1;f2(x)=((gamma/x)+delta+epsilon*x);f3(x)=(alpha*x-q)/(x)\n",
    "myeqn=f1(x)*diff(u(x),x,x)+f2(x)*diff(u(x),x)+f3(x)*u(x)\n",
    "show(myeqn)\n",
    "mysingularities=find_singularities(diffeqn=myeqn,y=u,z=x)\n",
    "show(mysingularities)\n",
    "myresult=find_special_ode(diffeqn=myeqn,y=u,z=x)\n",
    "show(myresult)"
   ]
  },
  {
   "cell_type": "code",
   "execution_count": 13,
   "metadata": {},
   "outputs": [
    {
     "data": {
      "text/html": [
       "<html><script type=\"math/tex; mode=display\">\\newcommand{\\Bold}[1]{\\mathbf{#1}}\\verb|Triconfluent|\\phantom{\\verb!x!}\\verb|Heun:|</script></html>"
      ],
      "text/latex": [
       "\\begin{math}\n",
       "\\newcommand{\\Bold}[1]{\\mathbf{#1}}\\verb|Triconfluent|\\phantom{\\verb!x!}\\verb|Heun:|\n",
       "\\end{math}"
      ],
      "text/plain": [
       "'Triconfluent Heun:'"
      ]
     },
     "metadata": {},
     "output_type": "display_data"
    },
    {
     "data": {
      "text/html": [
       "<html><script type=\"math/tex; mode=display\">\\newcommand{\\Bold}[1]{\\mathbf{#1}}{\\left(\\alpha x - q\\right)} u\\left(x\\right) + {\\left(\\epsilon x^{2} + \\delta x + \\gamma\\right)} \\frac{\\partial}{\\partial x}u\\left(x\\right) + \\frac{\\partial^{2}}{(\\partial x)^{2}}u\\left(x\\right)</script></html>"
      ],
      "text/latex": [
       "\\begin{math}\n",
       "\\newcommand{\\Bold}[1]{\\mathbf{#1}}{\\left(\\alpha x - q\\right)} u\\left(x\\right) + {\\left(\\epsilon x^{2} + \\delta x + \\gamma\\right)} \\frac{\\partial}{\\partial x}u\\left(x\\right) + \\frac{\\partial^{2}}{(\\partial x)^{2}}u\\left(x\\right)\n",
       "\\end{math}"
      ],
      "text/plain": [
       "(alpha*x - q)*u(x) + (epsilon*x^2 + delta*x + gamma)*diff(u(x), x) + diff(u(x), x, x)"
      ]
     },
     "metadata": {},
     "output_type": "display_data"
    },
    {
     "data": {
      "text/html": [
       "<html><script type=\"math/tex; mode=display\">\\newcommand{\\Bold}[1]{\\mathbf{#1}}\\left(\\left[\\right], \\left[\\right], \\left[+\\infty\\right], \\left[3\\right]\\right)</script></html>"
      ],
      "text/latex": [
       "\\begin{math}\n",
       "\\newcommand{\\Bold}[1]{\\mathbf{#1}}\\left(\\left[\\right], \\left[\\right], \\left[+\\infty\\right], \\left[3\\right]\\right)\n",
       "\\end{math}"
      ],
      "text/plain": [
       "([], [], [+Infinity], [3])"
      ]
     },
     "metadata": {},
     "output_type": "display_data"
    },
    {
     "data": {
      "text/html": [
       "<html><script type=\"math/tex; mode=display\">\\newcommand{\\Bold}[1]{\\mathbf{#1}}C_{2} {\\rm HT}\\left(\\delta + q, \\alpha - 2 \\, \\epsilon, -\\gamma, -\\delta, -\\epsilon, x\\right) e^{\\left(-\\frac{1}{3} \\, \\epsilon x^{3} - \\frac{1}{2} \\, \\delta x^{2} - \\gamma x\\right)} + C_{1} {\\rm HT}\\left(q, \\alpha, \\gamma, \\delta, \\epsilon, x\\right)</script></html>"
      ],
      "text/latex": [
       "\\begin{math}\n",
       "\\newcommand{\\Bold}[1]{\\mathbf{#1}}C_{2} {\\rm HT}\\left(\\delta + q, \\alpha - 2 \\, \\epsilon, -\\gamma, -\\delta, -\\epsilon, x\\right) e^{\\left(-\\frac{1}{3} \\, \\epsilon x^{3} - \\frac{1}{2} \\, \\delta x^{2} - \\gamma x\\right)} + C_{1} {\\rm HT}\\left(q, \\alpha, \\gamma, \\delta, \\epsilon, x\\right)\n",
       "\\end{math}"
      ],
      "text/plain": [
       "C2*HT(delta + q, alpha - 2*epsilon, -gamma, -delta, -epsilon, x)*e^(-1/3*epsilon*x^3 - 1/2*delta*x^2 - gamma*x) + C1*HT(q, alpha, gamma, delta, epsilon, x)"
      ]
     },
     "metadata": {},
     "output_type": "display_data"
    }
   ],
   "source": [
    "# Triconfluent Heun:\n",
    "reset()\n",
    "load('hypergeometric_heun.sage') #Routines for the symbolic solutions\n",
    "#######################  \n",
    "u = function('u')(x)\n",
    "u(x)=u\n",
    "f1 = function('f1')(x)\n",
    "f2 = function('f2')(x)\n",
    "f3 = function('f3')(x)\n",
    "#######################\n",
    "show('Triconfluent Heun:')\n",
    "var('alpha,gamma,delta,epsilon,q');f1(x)=1;f2(x)=gamma+delta*x+epsilon*x^2;f3(x)=(alpha*x-q)\n",
    "myeqn=f1(x)*diff(u(x),x,x)+f2(x)*diff(u(x),x)+f3(x)*u(x)\n",
    "show(myeqn)\n",
    "mysingularities=find_singularities(diffeqn=myeqn,y=u,z=x)\n",
    "show(mysingularities)\n",
    "myresult=find_special_ode(diffeqn=myeqn,y=u,z=x)\n",
    "show(myresult)"
   ]
  },
  {
   "cell_type": "code",
   "execution_count": 14,
   "metadata": {},
   "outputs": [
    {
     "data": {
      "text/html": [
       "<html><script type=\"math/tex; mode=display\">\\newcommand{\\Bold}[1]{\\mathbf{#1}}\\verb|Hypergeometric|\\phantom{\\verb!x!}\\verb|equation:|\\phantom{\\verb!x!}\\verb|Equation|\\phantom{\\verb!x!}\\verb|(15)|\\phantom{\\verb!x!}\\verb|of|\\phantom{\\verb!x!}\\verb|Nasheeha:|</script></html>"
      ],
      "text/latex": [
       "\\begin{math}\n",
       "\\newcommand{\\Bold}[1]{\\mathbf{#1}}\\verb|Hypergeometric|\\phantom{\\verb!x!}\\verb|equation:|\\phantom{\\verb!x!}\\verb|Equation|\\phantom{\\verb!x!}\\verb|(15)|\\phantom{\\verb!x!}\\verb|of|\\phantom{\\verb!x!}\\verb|Nasheeha:|\n",
       "\\end{math}"
      ],
      "text/plain": [
       "'Hypergeometric equation: Equation (15) of Nasheeha:'"
      ]
     },
     "metadata": {},
     "output_type": "display_data"
    },
    {
     "data": {
      "text/html": [
       "<html><script type=\"math/tex; mode=display\">\\newcommand{\\Bold}[1]{\\mathbf{#1}}\\frac{\\sqrt{a x + 1} C_{2} \\sqrt{b} \\,_2F_1\\left(\\begin{matrix} -\\frac{\\sqrt{2 \\, a - b + k}}{2 \\, \\sqrt{a}},\\frac{\\sqrt{2 \\, a - b + k}}{2 \\, \\sqrt{a}} \\\\ \\frac{3}{2} \\end{matrix} ; -\\frac{a b x + b}{a - b} \\right) + C_{1} \\sqrt{-a + b} \\,_2F_1\\left(\\begin{matrix} \\frac{\\sqrt{2 \\, a - b + k} - \\sqrt{a}}{2 \\, \\sqrt{a}},-\\frac{\\sqrt{2 \\, a - b + k} + \\sqrt{a}}{2 \\, \\sqrt{a}} \\\\ \\frac{1}{2} \\end{matrix} ; -\\frac{a b x + b}{a - b} \\right)}{\\sqrt{-a + b}}</script></html>"
      ],
      "text/latex": [
       "\\begin{math}\n",
       "\\newcommand{\\Bold}[1]{\\mathbf{#1}}\\frac{\\sqrt{a x + 1} C_{2} \\sqrt{b} \\,_2F_1\\left(\\begin{matrix} -\\frac{\\sqrt{2 \\, a - b + k}}{2 \\, \\sqrt{a}},\\frac{\\sqrt{2 \\, a - b + k}}{2 \\, \\sqrt{a}} \\\\ \\frac{3}{2} \\end{matrix} ; -\\frac{a b x + b}{a - b} \\right) + C_{1} \\sqrt{-a + b} \\,_2F_1\\left(\\begin{matrix} \\frac{\\sqrt{2 \\, a - b + k} - \\sqrt{a}}{2 \\, \\sqrt{a}},-\\frac{\\sqrt{2 \\, a - b + k} + \\sqrt{a}}{2 \\, \\sqrt{a}} \\\\ \\frac{1}{2} \\end{matrix} ; -\\frac{a b x + b}{a - b} \\right)}{\\sqrt{-a + b}}\n",
       "\\end{math}"
      ],
      "text/plain": [
       "(sqrt(a*x + 1)*C2*sqrt(b)*hypergeometric((-1/2*sqrt(2*a - b + k)/sqrt(a), 1/2*sqrt(2*a - b + k)/sqrt(a)), (3/2,), -(a*b*x + b)/(a - b)) + C1*sqrt(-a + b)*hypergeometric((1/2*(sqrt(2*a - b + k) - sqrt(a))/sqrt(a), -1/2*(sqrt(2*a - b + k) + sqrt(a))/sqrt(a)), (1/2,), -(a*b*x + b)/(a - b)))/sqrt(-a + b)"
      ]
     },
     "metadata": {},
     "output_type": "display_data"
    },
    {
     "data": {
      "text/html": [
       "<html><script type=\"math/tex; mode=display\">\\newcommand{\\Bold}[1]{\\mathbf{#1}}C_{2} t^{\\frac{3}{2}} \\,_2F_1\\left(\\begin{matrix} -\\alpha + \\frac{1}{2},\\alpha + \\frac{3}{2} \\\\ \\frac{5}{2} \\end{matrix} ; t \\right) + C_{1} \\,_2F_1\\left(\\begin{matrix} -\\alpha - 1,\\alpha \\\\ -\\frac{1}{2} \\end{matrix} ; t \\right)</script></html>"
      ],
      "text/latex": [
       "\\begin{math}\n",
       "\\newcommand{\\Bold}[1]{\\mathbf{#1}}C_{2} t^{\\frac{3}{2}} \\,_2F_1\\left(\\begin{matrix} -\\alpha + \\frac{1}{2},\\alpha + \\frac{3}{2} \\\\ \\frac{5}{2} \\end{matrix} ; t \\right) + C_{1} \\,_2F_1\\left(\\begin{matrix} -\\alpha - 1,\\alpha \\\\ -\\frac{1}{2} \\end{matrix} ; t \\right)\n",
       "\\end{math}"
      ],
      "text/plain": [
       "C2*t^(3/2)*hypergeometric((-alpha + 1/2, alpha + 3/2), (5/2,), t) + C1*hypergeometric((-alpha - 1, alpha), (-1/2,), t)"
      ]
     },
     "metadata": {},
     "output_type": "display_data"
    }
   ],
   "source": [
    "# Hypergeometric equation: Equation (15) of Nasheeha:\n",
    "reset()\n",
    "load('hypergeometric_heun.sage') #Routines for the symbolic solutions\n",
    "#######################  \n",
    "u = function('u')(x)\n",
    "u(x)=u\n",
    "f1 = function('f1')(x)\n",
    "f2 = function('f2')(x)\n",
    "f3 = function('f3')(x)\n",
    "#######################\n",
    "show('Hypergeometric equation: Equation (15) of Nasheeha:')\n",
    "var('a,b,k,alpha');\n",
    "f1(x)=4*(1+a*x)*(1+b*x);\n",
    "f2(x)=2*(a-b);\n",
    "f3(x)=((b^2)-a*b-k*b)\n",
    "\n",
    "myeqn=(f1(x)*diff(u(x),x,x)+f2(x)*diff(u(x),x)+f3(x)*u(x))\n",
    "myresult=find_special_ode(myeqn,u,x)\n",
    "show(myresult)\n",
    "var('t')\n",
    "trnsf=((a-b)*t-a)/(a*b)\n",
    "myeqn2=ode_change_of_variable(myeqn,u,x,t,trnsf)\n",
    "myeqn2=myeqn2.subs(k==a*(2*alpha+1)^2-2*a+b)\n",
    "myresult=find_special_ode(myeqn2,u,t)\n",
    "show(myresult)"
   ]
  },
  {
   "cell_type": "code",
   "execution_count": 15,
   "metadata": {},
   "outputs": [
    {
     "data": {
      "text/html": [
       "<html><script type=\"math/tex; mode=display\">\\newcommand{\\Bold}[1]{\\mathbf{#1}}\\verb|Confluent|\\phantom{\\verb!x!}\\verb|hypergeometric|\\phantom{\\verb!x!}\\verb|equation:|\\phantom{\\verb!x!}\\verb|Whittaker|\\phantom{\\verb!x!}\\verb|equation:|</script></html>"
      ],
      "text/latex": [
       "\\begin{math}\n",
       "\\newcommand{\\Bold}[1]{\\mathbf{#1}}\\verb|Confluent|\\phantom{\\verb!x!}\\verb|hypergeometric|\\phantom{\\verb!x!}\\verb|equation:|\\phantom{\\verb!x!}\\verb|Whittaker|\\phantom{\\verb!x!}\\verb|equation:|\n",
       "\\end{math}"
      ],
      "text/plain": [
       "'Confluent hypergeometric equation: Whittaker equation:'"
      ]
     },
     "metadata": {},
     "output_type": "display_data"
    },
    {
     "data": {
      "text/html": [
       "<html><script type=\"math/tex; mode=display\">\\newcommand{\\Bold}[1]{\\mathbf{#1}}C_{1} \\sqrt{x} x^{\\mu} M\\left(-\\kappa + \\mu + \\frac{1}{2}, 2 \\, \\mu + 1, x\\right) + C_{2} \\sqrt{x} x^{\\mu} U\\left(-\\kappa + \\mu + \\frac{1}{2}, 2 \\, \\mu + 1, x\\right)</script></html>"
      ],
      "text/latex": [
       "\\begin{math}\n",
       "\\newcommand{\\Bold}[1]{\\mathbf{#1}}C_{1} \\sqrt{x} x^{\\mu} M\\left(-\\kappa + \\mu + \\frac{1}{2}, 2 \\, \\mu + 1, x\\right) + C_{2} \\sqrt{x} x^{\\mu} U\\left(-\\kappa + \\mu + \\frac{1}{2}, 2 \\, \\mu + 1, x\\right)\n",
       "\\end{math}"
      ],
      "text/plain": [
       "C1*sqrt(x)*x^mu*hypergeometric_M(-kappa + mu + 1/2, 2*mu + 1, x) + C2*sqrt(x)*x^mu*hypergeometric_U(-kappa + mu + 1/2, 2*mu + 1, x)"
      ]
     },
     "metadata": {},
     "output_type": "display_data"
    }
   ],
   "source": [
    "# Confluent hypergeometric equation: Whittaker equation:\n",
    "reset()\n",
    "load('hypergeometric_heun.sage') #Routines for the symbolic solutions\n",
    "#######################  \n",
    "u = function('u')(x)\n",
    "u(x)=u\n",
    "f1 = function('f1')(x)\n",
    "f2 = function('f2')(x)\n",
    "f3 = function('f3')(x)\n",
    "#######################\n",
    "show('Confluent hypergeometric equation: Whittaker equation:')\n",
    "var('kappa,mu');f1(x)=1;f2(x)=0;f3(x)=(-1/4)+(kappa/x)+((1/4)-(mu^2))/(x^2)\n",
    "myeqn=f1(x)*diff(u(x),x,x)+f2(x)*diff(u(x),x)+f3(x)*u(x)\n",
    "myeqn=myeqn.substitute_function(u(x),exp(-x/2)*u(x))\n",
    "myresult=find_special_ode(diffeqn=myeqn,y=u,z=x)\n",
    "show(myresult)"
   ]
  },
  {
   "cell_type": "code",
   "execution_count": 16,
   "metadata": {},
   "outputs": [
    {
     "data": {
      "text/html": [
       "<html><script type=\"math/tex; mode=display\">\\newcommand{\\Bold}[1]{\\mathbf{#1}}\\verb|General|\\phantom{\\verb!x!}\\verb|Heun|\\phantom{\\verb!x!}\\verb|equation:|\\phantom{\\verb!x!}\\verb|Equation|\\phantom{\\verb!x!}\\verb|(10)|\\phantom{\\verb!x!}\\verb|of|\\phantom{\\verb!x!}\\verb|Petroff:|</script></html>"
      ],
      "text/latex": [
       "\\begin{math}\n",
       "\\newcommand{\\Bold}[1]{\\mathbf{#1}}\\verb|General|\\phantom{\\verb!x!}\\verb|Heun|\\phantom{\\verb!x!}\\verb|equation:|\\phantom{\\verb!x!}\\verb|Equation|\\phantom{\\verb!x!}\\verb|(10)|\\phantom{\\verb!x!}\\verb|of|\\phantom{\\verb!x!}\\verb|Petroff:|\n",
       "\\end{math}"
      ],
      "text/plain": [
       "'General Heun equation: Equation (10) of Petroff:'"
      ]
     },
     "metadata": {},
     "output_type": "display_data"
    },
    {
     "data": {
      "text/html": [
       "<html><script type=\"math/tex; mode=display\">\\newcommand{\\Bold}[1]{\\mathbf{#1}}-{\\left(x^{2} - 1\\right)} {\\left(A - x\\right)} \\frac{\\partial^{2}}{(\\partial x)^{2}}u\\left(x\\right) - 4 \\, A u\\left(x\\right) - {\\left(5 \\, A x - 4 \\, x^{2} - 1\\right)} \\frac{\\partial}{\\partial x}u\\left(x\\right)</script></html>"
      ],
      "text/latex": [
       "\\begin{math}\n",
       "\\newcommand{\\Bold}[1]{\\mathbf{#1}}-{\\left(x^{2} - 1\\right)} {\\left(A - x\\right)} \\frac{\\partial^{2}}{(\\partial x)^{2}}u\\left(x\\right) - 4 \\, A u\\left(x\\right) - {\\left(5 \\, A x - 4 \\, x^{2} - 1\\right)} \\frac{\\partial}{\\partial x}u\\left(x\\right)\n",
       "\\end{math}"
      ],
      "text/plain": [
       "-(x^2 - 1)*(A - x)*diff(u(x), x, x) - 4*A*u(x) - (5*A*x - 4*x^2 - 1)*diff(u(x), x)"
      ]
     },
     "metadata": {},
     "output_type": "display_data"
    },
    {
     "data": {
      "text/html": [
       "<html><script type=\"math/tex; mode=display\">\\newcommand{\\Bold}[1]{\\mathbf{#1}}C_{1} {\\rm HG}\\left(-\\frac{1}{2} \\, A + \\frac{1}{2}, -2 \\, A, 3, 0, \\frac{5}{2}, \\frac{5}{2}, z\\right) + \\frac{C_{2} {\\rm HG}\\left(-\\frac{1}{2} \\, A + \\frac{1}{2}, -\\frac{1}{8} \\, A - \\frac{3}{8}, \\frac{3}{2}, -\\frac{3}{2}, -\\frac{1}{2}, \\frac{5}{2}, z\\right)}{z^{\\frac{3}{2}}}</script></html>"
      ],
      "text/latex": [
       "\\begin{math}\n",
       "\\newcommand{\\Bold}[1]{\\mathbf{#1}}C_{1} {\\rm HG}\\left(-\\frac{1}{2} \\, A + \\frac{1}{2}, -2 \\, A, 3, 0, \\frac{5}{2}, \\frac{5}{2}, z\\right) + \\frac{C_{2} {\\rm HG}\\left(-\\frac{1}{2} \\, A + \\frac{1}{2}, -\\frac{1}{8} \\, A - \\frac{3}{8}, \\frac{3}{2}, -\\frac{3}{2}, -\\frac{1}{2}, \\frac{5}{2}, z\\right)}{z^{\\frac{3}{2}}}\n",
       "\\end{math}"
      ],
      "text/plain": [
       "C1*HG(-1/2*A + 1/2, -2*A, 3, 0, 5/2, 5/2, z) + C2*HG(-1/2*A + 1/2, -1/8*A - 3/8, 3/2, -3/2, -1/2, 5/2, z)/z^(3/2)"
      ]
     },
     "metadata": {},
     "output_type": "display_data"
    }
   ],
   "source": [
    "# General Heun equation: Equation (10) of Petroff:\n",
    "reset()\n",
    "load('hypergeometric_heun.sage') #Routines for the symbolic solutions\n",
    "#######################  \n",
    "u = function('u')(x)\n",
    "u(x)=u\n",
    "f1 = function('f1')(x)\n",
    "f2 = function('f2')(x)\n",
    "f3 = function('f3')(x)\n",
    "#######################\n",
    "show('General Heun equation: Equation (10) of Petroff:')\n",
    "var('A');f1(x)=(x-A)*((x^2)-1);f2(x)=4*(x^2)-5*A*x+1;f3(x)=-4*A;\n",
    "myeqn=(f1(x)*diff(u(x),x,x)+f2(x)*diff(u(x),x)+f3(x)*u(x))\n",
    "show(myeqn)\n",
    "var('z')\n",
    "myeqn2=ode_change_of_variable(diffeqn=myeqn,y=u,z=x,newvar=z,transformation=1-2*z)\n",
    "myresult=find_special_ode(diffeqn=myeqn2,y=u,z=z)\n",
    "show(myresult)"
   ]
  },
  {
   "cell_type": "code",
   "execution_count": 17,
   "metadata": {},
   "outputs": [
    {
     "data": {
      "text/html": [
       "<html><script type=\"math/tex; mode=display\">\\newcommand{\\Bold}[1]{\\mathbf{#1}}\\verb|Confluent|\\phantom{\\verb!x!}\\verb|Heun|\\phantom{\\verb!x!}\\verb|equation:|\\phantom{\\verb!x!}\\verb|Equation|\\phantom{\\verb!x!}\\verb|(26)|\\phantom{\\verb!x!}\\verb|of|\\phantom{\\verb!x!}\\verb|Sakalli:|</script></html>"
      ],
      "text/latex": [
       "\\begin{math}\n",
       "\\newcommand{\\Bold}[1]{\\mathbf{#1}}\\verb|Confluent|\\phantom{\\verb!x!}\\verb|Heun|\\phantom{\\verb!x!}\\verb|equation:|\\phantom{\\verb!x!}\\verb|Equation|\\phantom{\\verb!x!}\\verb|(26)|\\phantom{\\verb!x!}\\verb|of|\\phantom{\\verb!x!}\\verb|Sakalli:|\n",
       "\\end{math}"
      ],
      "text/plain": [
       "'Confluent Heun equation: Equation (26) of Sakalli:'"
      ]
     },
     "metadata": {},
     "output_type": "display_data"
    },
    {
     "data": {
      "text/html": [
       "<html><script type=\"math/tex; mode=display\">\\newcommand{\\Bold}[1]{\\mathbf{#1}}C_{2} x^{i \\, L_{1} \\omega} x^{-2 i \\, L_{1} \\omega} {\\rm HC}\\left(0, -2 i \\, L_{1} \\omega, 0, L_{1} m^{2} r, -L_{1} m^{2} r - L_{1} L_{2}^{2} - L_{1} L_{2}, x\\right) + C_{1} x^{i \\, L_{1} \\omega} {\\rm HC}\\left(0, 2 i \\, L_{1} \\omega, 0, L_{1} m^{2} r, -L_{1} m^{2} r - L_{1} L_{2}^{2} - L_{1} L_{2}, x\\right)</script></html>"
      ],
      "text/latex": [
       "\\begin{math}\n",
       "\\newcommand{\\Bold}[1]{\\mathbf{#1}}C_{2} x^{i \\, L_{1} \\omega} x^{-2 i \\, L_{1} \\omega} {\\rm HC}\\left(0, -2 i \\, L_{1} \\omega, 0, L_{1} m^{2} r, -L_{1} m^{2} r - L_{1} L_{2}^{2} - L_{1} L_{2}, x\\right) + C_{1} x^{i \\, L_{1} \\omega} {\\rm HC}\\left(0, 2 i \\, L_{1} \\omega, 0, L_{1} m^{2} r, -L_{1} m^{2} r - L_{1} L_{2}^{2} - L_{1} L_{2}, x\\right)\n",
       "\\end{math}"
      ],
      "text/plain": [
       "C2*x^(I*L1*omega)*x^(-2*I*L1*omega)*HC(0, -2*I*L1*omega, 0, L1*m^2*r, -L1*m^2*r - L1*L2^2 - L1*L2, x) + C1*x^(I*L1*omega)*HC(0, 2*I*L1*omega, 0, L1*m^2*r, -L1*m^2*r - L1*L2^2 - L1*L2, x)"
      ]
     },
     "metadata": {},
     "output_type": "display_data"
    }
   ],
   "source": [
    "# Confluent Heun equation: Equation (26) of Sakalli:\n",
    "reset()\n",
    "load('hypergeometric_heun.sage') #Routines for the symbolic solutions\n",
    "#######################  \n",
    "u = function('u')(x)\n",
    "u(x)=u\n",
    "f1 = function('f1')(x)\n",
    "f2 = function('f2')(x)\n",
    "f3 = function('f3')(x)\n",
    "#######################\n",
    "show('Confluent Heun equation: Equation (26) of Sakalli:')\n",
    "var('L1,L2,omega,m,r');\n",
    "f1(x)=x*(1-x);\n",
    "f2(x)=1-2*x;\n",
    "f3(x)=((L1^2)*(omega^2)*((1/x)-1))+((m^2)*(L1)*r*(1-x))+(L2*(L2+1)*L1)\n",
    "myeqn=(f1(x)*diff(u(x),x,x)+f2(x)*diff(u(x),x)+f3(x)*u(x))\n",
    "myresult=find_special_ode(diffeqn=myeqn,y=u,z=x)\n",
    "show(myresult)"
   ]
  },
  {
   "cell_type": "code",
   "execution_count": 18,
   "metadata": {},
   "outputs": [
    {
     "data": {
      "text/html": [
       "<html><script type=\"math/tex; mode=display\">\\newcommand{\\Bold}[1]{\\mathbf{#1}}\\verb|Biconfluent|\\phantom{\\verb!x!}\\verb|Heun|\\phantom{\\verb!x!}\\verb|equation:|\\phantom{\\verb!x!}\\verb|Equation|\\phantom{\\verb!x!}\\verb|(10)|\\phantom{\\verb!x!}\\verb|of|\\phantom{\\verb!x!}\\verb|Vitoria:|</script></html>"
      ],
      "text/latex": [
       "\\begin{math}\n",
       "\\newcommand{\\Bold}[1]{\\mathbf{#1}}\\verb|Biconfluent|\\phantom{\\verb!x!}\\verb|Heun|\\phantom{\\verb!x!}\\verb|equation:|\\phantom{\\verb!x!}\\verb|Equation|\\phantom{\\verb!x!}\\verb|(10)|\\phantom{\\verb!x!}\\verb|of|\\phantom{\\verb!x!}\\verb|Vitoria:|\n",
       "\\end{math}"
      ],
      "text/plain": [
       "'Biconfluent Heun equation: Equation (10) of Vitoria:'"
      ]
     },
     "metadata": {},
     "output_type": "display_data"
    },
    {
     "data": {
      "text/html": [
       "<html><script type=\"math/tex; mode=display\">\\newcommand{\\Bold}[1]{\\mathbf{#1}}\\frac{\\frac{\\partial}{\\partial z}u\\left(z\\right)}{z} - \\frac{{\\left(m \\omega z^{4} + \\gamma^{2} m \\omega + \\delta m \\omega z - \\beta z^{2}\\right)} u\\left(z\\right)}{m \\omega z^{2}} + \\frac{\\partial^{2}}{(\\partial z)^{2}}u\\left(z\\right)</script></html>"
      ],
      "text/latex": [
       "\\begin{math}\n",
       "\\newcommand{\\Bold}[1]{\\mathbf{#1}}\\frac{\\frac{\\partial}{\\partial z}u\\left(z\\right)}{z} - \\frac{{\\left(m \\omega z^{4} + \\gamma^{2} m \\omega + \\delta m \\omega z - \\beta z^{2}\\right)} u\\left(z\\right)}{m \\omega z^{2}} + \\frac{\\partial^{2}}{(\\partial z)^{2}}u\\left(z\\right)\n",
       "\\end{math}"
      ],
      "text/plain": [
       "diff(u(z), z)/z - (m*omega*z^4 + gamma^2*m*omega + delta*m*omega*z - beta*z^2)*u(z)/(m*omega*z^2) + diff(u(z), z, z)"
      ]
     },
     "metadata": {},
     "output_type": "display_data"
    },
    {
     "data": {
      "text/html": [
       "<html><script type=\"math/tex; mode=display\">\\newcommand{\\Bold}[1]{\\mathbf{#1}}C_{1} {\\rm HB}\\left(\\delta, -2 \\, \\gamma + \\frac{\\beta}{m \\omega} - 2, 2 \\, \\gamma + 1, 0, -2, z\\right) e^{\\left(-\\frac{1}{2} \\, z^{2}\\right)} + \\frac{C_{2} {\\rm HB}\\left(\\delta, 2 \\, \\gamma + \\frac{\\beta}{m \\omega} - 2, -2 \\, \\gamma + 1, 0, -2, z\\right) e^{\\left(-\\frac{1}{2} \\, z^{2}\\right)}}{z^{2 \\, \\gamma}}</script></html>"
      ],
      "text/latex": [
       "\\begin{math}\n",
       "\\newcommand{\\Bold}[1]{\\mathbf{#1}}C_{1} {\\rm HB}\\left(\\delta, -2 \\, \\gamma + \\frac{\\beta}{m \\omega} - 2, 2 \\, \\gamma + 1, 0, -2, z\\right) e^{\\left(-\\frac{1}{2} \\, z^{2}\\right)} + \\frac{C_{2} {\\rm HB}\\left(\\delta, 2 \\, \\gamma + \\frac{\\beta}{m \\omega} - 2, -2 \\, \\gamma + 1, 0, -2, z\\right) e^{\\left(-\\frac{1}{2} \\, z^{2}\\right)}}{z^{2 \\, \\gamma}}\n",
       "\\end{math}"
      ],
      "text/plain": [
       "C1*HB(delta, -2*gamma + beta/(m*omega) - 2, 2*gamma + 1, 0, -2, z)*e^(-1/2*z^2) + C2*HB(delta, 2*gamma + beta/(m*omega) - 2, -2*gamma + 1, 0, -2, z)*e^(-1/2*z^2)/z^(2*gamma)"
      ]
     },
     "metadata": {},
     "output_type": "display_data"
    }
   ],
   "source": [
    "# Biconfluent Heun equation: Equation (10) of Vitoria:\n",
    "reset()\n",
    "load('hypergeometric_heun.sage') #Routines for the symbolic solutions\n",
    "#######################  \n",
    "u = function('u')(x)\n",
    "u(x)=u\n",
    "f1 = function('f1')(x)\n",
    "f2 = function('f2')(x)\n",
    "f3 = function('f3')(x)\n",
    "#######################\n",
    "show('Biconfluent Heun equation: Equation (10) of Vitoria:')\n",
    "var('gamma,beta,m,omega,delta')\n",
    "f1(x)=1\n",
    "f2(x)=1/x\n",
    "f3(x)=(beta/(m*omega))+(delta/x)-((gamma^2)/(x^2))-x^2\n",
    "myeqn=f1(x)*diff(u(x),x,x)+f2(x)*diff(u(x),x)+f3(x)*u(x)\n",
    "myeqn=myeqn.substitute_function(u(x),exp(-(x^2)/2)*(x^gamma)*u(x))\n",
    "var('z')\n",
    "myeqn=ode_change_of_variable(diffeqn=myeqn,y=u,z=x,newvar=z,transformation=-z)\n",
    "show(myeqn)\n",
    "myresult=find_special_ode(diffeqn=myeqn,y=u,z=z)\n",
    "show(myresult)"
   ]
  },
  {
   "cell_type": "code",
   "execution_count": 19,
   "metadata": {},
   "outputs": [
    {
     "data": {
      "text/html": [
       "<html><script type=\"math/tex; mode=display\">\\newcommand{\\Bold}[1]{\\mathbf{#1}}\\verb|Double|\\phantom{\\verb!x!}\\verb|confluent|\\phantom{\\verb!x!}\\verb|Heun|\\phantom{\\verb!x!}\\verb|equation:|\\phantom{\\verb!x!}\\verb|Equation|\\phantom{\\verb!x!}\\verb|(11)|\\phantom{\\verb!x!}\\verb|of|\\phantom{\\verb!x!}\\verb|Vieira:|</script></html>"
      ],
      "text/latex": [
       "\\begin{math}\n",
       "\\newcommand{\\Bold}[1]{\\mathbf{#1}}\\verb|Double|\\phantom{\\verb!x!}\\verb|confluent|\\phantom{\\verb!x!}\\verb|Heun|\\phantom{\\verb!x!}\\verb|equation:|\\phantom{\\verb!x!}\\verb|Equation|\\phantom{\\verb!x!}\\verb|(11)|\\phantom{\\verb!x!}\\verb|of|\\phantom{\\verb!x!}\\verb|Vieira:|\n",
       "\\end{math}"
      ],
      "text/plain": [
       "'Double confluent Heun equation: Equation (11) of Vieira:'"
      ]
     },
     "metadata": {},
     "output_type": "display_data"
    },
    {
     "data": {
      "text/html": [
       "<html><script type=\"math/tex; mode=display\">\\newcommand{\\Bold}[1]{\\mathbf{#1}}\\verb|Coefficients|\\phantom{\\verb!x!}\\verb|of|\\phantom{\\verb!x!}\\verb|the|\\phantom{\\verb!x!}\\verb|equation|\\phantom{\\verb!x!}\\verb|(please|\\phantom{\\verb!x!}\\verb|check|\\phantom{\\verb!x!}\\verb|with|\\phantom{\\verb!x!}\\verb|the|\\phantom{\\verb!x!}\\verb|original|\\phantom{\\verb!x!}\\verb|paper):|</script></html>"
      ],
      "text/latex": [
       "\\begin{math}\n",
       "\\newcommand{\\Bold}[1]{\\mathbf{#1}}\\verb|Coefficients|\\phantom{\\verb!x!}\\verb|of|\\phantom{\\verb!x!}\\verb|the|\\phantom{\\verb!x!}\\verb|equation|\\phantom{\\verb!x!}\\verb|(please|\\phantom{\\verb!x!}\\verb|check|\\phantom{\\verb!x!}\\verb|with|\\phantom{\\verb!x!}\\verb|the|\\phantom{\\verb!x!}\\verb|original|\\phantom{\\verb!x!}\\verb|paper):|\n",
       "\\end{math}"
      ],
      "text/plain": [
       "'Coefficients of the equation (please check with the original paper):'"
      ]
     },
     "metadata": {},
     "output_type": "display_data"
    },
    {
     "data": {
      "text/html": [
       "<html><script type=\"math/tex; mode=display\">\\newcommand{\\Bold}[1]{\\mathbf{#1}}\\verb|2nd|\\phantom{\\verb!x!}\\verb|derivative:|</script></html>"
      ],
      "text/latex": [
       "\\begin{math}\n",
       "\\newcommand{\\Bold}[1]{\\mathbf{#1}}\\verb|2nd|\\phantom{\\verb!x!}\\verb|derivative:|\n",
       "\\end{math}"
      ],
      "text/plain": [
       "'2nd derivative:'"
      ]
     },
     "metadata": {},
     "output_type": "display_data"
    },
    {
     "data": {
      "text/html": [
       "<html><script type=\"math/tex; mode=display\">\\newcommand{\\Bold}[1]{\\mathbf{#1}}1</script></html>"
      ],
      "text/latex": [
       "\\begin{math}\n",
       "\\newcommand{\\Bold}[1]{\\mathbf{#1}}1\n",
       "\\end{math}"
      ],
      "text/plain": [
       "1"
      ]
     },
     "metadata": {},
     "output_type": "display_data"
    },
    {
     "data": {
      "text/html": [
       "<html><script type=\"math/tex; mode=display\">\\newcommand{\\Bold}[1]{\\mathbf{#1}}\\verb|1st|\\phantom{\\verb!x!}\\verb|derivative:|</script></html>"
      ],
      "text/latex": [
       "\\begin{math}\n",
       "\\newcommand{\\Bold}[1]{\\mathbf{#1}}\\verb|1st|\\phantom{\\verb!x!}\\verb|derivative:|\n",
       "\\end{math}"
      ],
      "text/plain": [
       "'1st derivative:'"
      ]
     },
     "metadata": {},
     "output_type": "display_data"
    },
    {
     "data": {
      "text/html": [
       "<html><script type=\"math/tex; mode=display\">\\newcommand{\\Bold}[1]{\\mathbf{#1}}\\frac{2 \\, {\\left(t^{5} - 2 \\, t^{3} + t\\right)}}{{\\left(t + 1\\right)}^{3} {\\left(t - 1\\right)}^{3}}</script></html>"
      ],
      "text/latex": [
       "\\begin{math}\n",
       "\\newcommand{\\Bold}[1]{\\mathbf{#1}}\\frac{2 \\, {\\left(t^{5} - 2 \\, t^{3} + t\\right)}}{{\\left(t + 1\\right)}^{3} {\\left(t - 1\\right)}^{3}}\n",
       "\\end{math}"
      ],
      "text/plain": [
       "2*(t^5 - 2*t^3 + t)/((t + 1)^3*(t - 1)^3)"
      ]
     },
     "metadata": {},
     "output_type": "display_data"
    },
    {
     "data": {
      "text/html": [
       "<html><script type=\"math/tex; mode=display\">\\newcommand{\\Bold}[1]{\\mathbf{#1}}\\verb|No|\\phantom{\\verb!x!}\\verb|derivative:|</script></html>"
      ],
      "text/latex": [
       "\\begin{math}\n",
       "\\newcommand{\\Bold}[1]{\\mathbf{#1}}\\verb|No|\\phantom{\\verb!x!}\\verb|derivative:|\n",
       "\\end{math}"
      ],
      "text/plain": [
       "'No derivative:'"
      ]
     },
     "metadata": {},
     "output_type": "display_data"
    },
    {
     "data": {
      "text/html": [
       "<html><script type=\"math/tex; mode=display\">\\newcommand{\\Bold}[1]{\\mathbf{#1}}\\frac{{\\left(A_{1} + A_{2} + A_{3}\\right)} t^{2} + 2 \\, {\\left(A_{1} - A_{3}\\right)} t + A_{1} - A_{2} + A_{3}}{t^{6} - 3 \\, t^{4} + 3 \\, t^{2} - 1}</script></html>"
      ],
      "text/latex": [
       "\\begin{math}\n",
       "\\newcommand{\\Bold}[1]{\\mathbf{#1}}\\frac{{\\left(A_{1} + A_{2} + A_{3}\\right)} t^{2} + 2 \\, {\\left(A_{1} - A_{3}\\right)} t + A_{1} - A_{2} + A_{3}}{t^{6} - 3 \\, t^{4} + 3 \\, t^{2} - 1}\n",
       "\\end{math}"
      ],
      "text/plain": [
       "((A1 + A2 + A3)*t^2 + 2*(A1 - A3)*t + A1 - A2 + A3)/(t^6 - 3*t^4 + 3*t^2 - 1)"
      ]
     },
     "metadata": {},
     "output_type": "display_data"
    }
   ],
   "source": [
    "# Double confluent Heun equation: Equation (11) of Vieira:\n",
    "reset()\n",
    "load('hypergeometric_heun.sage') #Routines for the symbolic solutions\n",
    "#######################  \n",
    "u = function('u')(x)\n",
    "u(x)=u\n",
    "f1 = function('f1')(x)\n",
    "f2 = function('f2')(x)\n",
    "f3 = function('f3')(x)\n",
    "#######################\n",
    "show('Double confluent Heun equation: Equation (11) of Vieira:')\n",
    "var('A1,A2,A3');f1(x)=1;f2(x)=1/x;f3(x)=A1+(A2/x^2)+(A3/x^4)\n",
    "myeqn=f1(x)*diff(u(x),x,x)+f2(x)*diff(u(x),x)+f3(x)*u(x)\n",
    "myresult=find_special_ode(diffeqn=myeqn,y=u,z=x)\n",
    "\n",
    "var('t')\n",
    "myeqn2=ode_change_of_variable(diffeqn=myeqn,y=u,z=x,newvar=t,transformation=sqrt(t^2-1)/(t-1))\n",
    "myeqn2=(myeqn2/myeqn2.coefficient(diff(u(t),t,t))).expand().normalize().full_simplify().factor()\n",
    "show('Coefficients of the equation (please check with the original paper):')\n",
    "coefficientofsecondderivative=myeqn2.coefficient(diff(u(t),t,t)).factor()\n",
    "coefficientoffirstderivative=myeqn2.coefficient(diff(u(t),t))\n",
    "coefficientofnoderivative=myeqn2.coefficient(u(t)).full_simplify()\n",
    "show('2nd derivative:')\n",
    "show(coefficientofsecondderivative)\n",
    "show('1st derivative:')\n",
    "show(coefficientoffirstderivative)\n",
    "show('No derivative:')\n",
    "show(coefficientofnoderivative)"
   ]
  },
  {
   "cell_type": "code",
   "execution_count": 20,
   "metadata": {},
   "outputs": [
    {
     "data": {
      "text/html": [
       "<html><script type=\"math/tex; mode=display\">\\newcommand{\\Bold}[1]{\\mathbf{#1}}\\verb|Triconfluent|\\phantom{\\verb!x!}\\verb|Heun|\\phantom{\\verb!x!}\\verb|equation:|\\phantom{\\verb!x!}\\verb|Equation|\\phantom{\\verb!x!}\\verb|(5)|\\phantom{\\verb!x!}\\verb|of|\\phantom{\\verb!x!}\\verb|Dong:|</script></html>"
      ],
      "text/latex": [
       "\\begin{math}\n",
       "\\newcommand{\\Bold}[1]{\\mathbf{#1}}\\verb|Triconfluent|\\phantom{\\verb!x!}\\verb|Heun|\\phantom{\\verb!x!}\\verb|equation:|\\phantom{\\verb!x!}\\verb|Equation|\\phantom{\\verb!x!}\\verb|(5)|\\phantom{\\verb!x!}\\verb|of|\\phantom{\\verb!x!}\\verb|Dong:|\n",
       "\\end{math}"
      ],
      "text/plain": [
       "'Triconfluent Heun equation: Equation (5) of Dong:'"
      ]
     },
     "metadata": {},
     "output_type": "display_data"
    },
    {
     "data": {
      "text/html": [
       "<html><script type=\"math/tex; mode=display\">\\newcommand{\\Bold}[1]{\\mathbf{#1}}-\\frac{\\sqrt{2} {\\left(2 \\, b x^{2} + a\\right)} \\frac{\\partial}{\\partial x}u\\left(x\\right)}{\\sqrt{b}} + \\frac{{\\left(a^{2} + 4 \\, b \\epsilon - 4 \\, \\sqrt{2} \\sqrt{b^{3}} x\\right)} u\\left(x\\right)}{2 \\, b} + \\frac{\\partial^{2}}{(\\partial x)^{2}}u\\left(x\\right)</script></html>"
      ],
      "text/latex": [
       "\\begin{math}\n",
       "\\newcommand{\\Bold}[1]{\\mathbf{#1}}-\\frac{\\sqrt{2} {\\left(2 \\, b x^{2} + a\\right)} \\frac{\\partial}{\\partial x}u\\left(x\\right)}{\\sqrt{b}} + \\frac{{\\left(a^{2} + 4 \\, b \\epsilon - 4 \\, \\sqrt{2} \\sqrt{b^{3}} x\\right)} u\\left(x\\right)}{2 \\, b} + \\frac{\\partial^{2}}{(\\partial x)^{2}}u\\left(x\\right)\n",
       "\\end{math}"
      ],
      "text/plain": [
       "-sqrt(2)*(2*b*x^2 + a)*diff(u(x), x)/sqrt(b) + 1/2*(a^2 + 4*b*epsilon - 4*sqrt(2)*sqrt(b^3)*x)*u(x)/b + diff(u(x), x, x)"
      ]
     },
     "metadata": {},
     "output_type": "display_data"
    },
    {
     "data": {
      "text/html": [
       "<html><script type=\"math/tex; mode=display\">\\newcommand{\\Bold}[1]{\\mathbf{#1}}\\left(\\left[\\right], \\left[\\right], \\left[+\\infty\\right], \\left[3\\right]\\right)</script></html>"
      ],
      "text/latex": [
       "\\begin{math}\n",
       "\\newcommand{\\Bold}[1]{\\mathbf{#1}}\\left(\\left[\\right], \\left[\\right], \\left[+\\infty\\right], \\left[3\\right]\\right)\n",
       "\\end{math}"
      ],
      "text/plain": [
       "([], [], [+Infinity], [3])"
      ]
     },
     "metadata": {},
     "output_type": "display_data"
    },
    {
     "data": {
      "text/html": [
       "<html><script type=\"math/tex; mode=display\">\\newcommand{\\Bold}[1]{\\mathbf{#1}}C_{1} {\\rm HT}\\left(-\\frac{3^{\\frac{2}{3}} a^{2}}{4 \\, b^{\\frac{4}{3}}} - \\frac{3^{\\frac{2}{3}} \\epsilon}{b^{\\frac{1}{3}}}, 3, \\frac{3^{\\frac{1}{3}} a}{b^{\\frac{2}{3}}}, 0, 3, z\\right) e^{\\left(z^{3} + \\frac{3^{\\frac{1}{3}} a z}{b^{\\frac{2}{3}}}\\right)} + C_{2} {\\rm HT}\\left(-\\frac{3^{\\frac{2}{3}} a^{2}}{4 \\, b^{\\frac{4}{3}}} - \\frac{3^{\\frac{2}{3}} \\epsilon}{b^{\\frac{1}{3}}}, -3, -\\frac{3^{\\frac{1}{3}} a}{b^{\\frac{2}{3}}}, 0, -3, z\\right)</script></html>"
      ],
      "text/latex": [
       "\\begin{math}\n",
       "\\newcommand{\\Bold}[1]{\\mathbf{#1}}C_{1} {\\rm HT}\\left(-\\frac{3^{\\frac{2}{3}} a^{2}}{4 \\, b^{\\frac{4}{3}}} - \\frac{3^{\\frac{2}{3}} \\epsilon}{b^{\\frac{1}{3}}}, 3, \\frac{3^{\\frac{1}{3}} a}{b^{\\frac{2}{3}}}, 0, 3, z\\right) e^{\\left(z^{3} + \\frac{3^{\\frac{1}{3}} a z}{b^{\\frac{2}{3}}}\\right)} + C_{2} {\\rm HT}\\left(-\\frac{3^{\\frac{2}{3}} a^{2}}{4 \\, b^{\\frac{4}{3}}} - \\frac{3^{\\frac{2}{3}} \\epsilon}{b^{\\frac{1}{3}}}, -3, -\\frac{3^{\\frac{1}{3}} a}{b^{\\frac{2}{3}}}, 0, -3, z\\right)\n",
       "\\end{math}"
      ],
      "text/plain": [
       "C1*HT(-1/4*3^(2/3)*a^2/b^(4/3) - 3^(2/3)*epsilon/b^(1/3), 3, 3^(1/3)*a/b^(2/3), 0, 3, z)*e^(z^3 + 3^(1/3)*a*z/b^(2/3)) + C2*HT(-1/4*3^(2/3)*a^2/b^(4/3) - 3^(2/3)*epsilon/b^(1/3), -3, -3^(1/3)*a/b^(2/3), 0, -3, z)"
      ]
     },
     "metadata": {},
     "output_type": "display_data"
    }
   ],
   "source": [
    "# Triconfluent Heun equation: Equation (5) of Dong:\n",
    "reset()\n",
    "load('hypergeometric_heun.sage') #Routines for the symbolic solutions\n",
    "#######################  \n",
    "u = function('u')(x)\n",
    "u(x)=u\n",
    "f1 = function('f1')(x)\n",
    "f2 = function('f2')(x)\n",
    "f3 = function('f3')(x)\n",
    "#######################\n",
    "show('Triconfluent Heun equation: Equation (5) of Dong:')\n",
    "var('a,b,epsilon');\n",
    "f1(x)=1\n",
    "f2(x)=-sqrt(2)*(a+2*b*x^2)/sqrt(b)\n",
    "f3(x)=((a^2)-4*sqrt(2*b^3)*x+4*b*epsilon)/(2*b)\n",
    "myeqn=(f1(x)*diff(u(x),x,x)+f2(x)*diff(u(x),x)+f3(x)*u(x))\n",
    "show(myeqn)\n",
    "show(find_singularities(diffeqn=myeqn,y=u,z=x))\n",
    "var('z')\n",
    "myeqn2=ode_change_of_variable(diffeqn=myeqn,y=u,z=x,newvar=z,transformation=z*((8*b)/9)^-(1/6))\n",
    "myresult=find_special_ode(diffeqn=myeqn2,y=u,z=z)\n",
    "show(myresult)"
   ]
  },
  {
   "cell_type": "code",
   "execution_count": 21,
   "metadata": {},
   "outputs": [
    {
     "data": {
      "text/html": [
       "<html><script type=\"math/tex; mode=display\">\\newcommand{\\Bold}[1]{\\mathbf{#1}}\\verb|Lame|\\phantom{\\verb!x!}\\verb|equation:|</script></html>"
      ],
      "text/latex": [
       "\\begin{math}\n",
       "\\newcommand{\\Bold}[1]{\\mathbf{#1}}\\verb|Lame|\\phantom{\\verb!x!}\\verb|equation:|\n",
       "\\end{math}"
      ],
      "text/plain": [
       "'Lame equation: '"
      ]
     },
     "metadata": {},
     "output_type": "display_data"
    },
    {
     "data": {
      "text/html": [
       "<html><script type=\"math/tex; mode=display\">\\newcommand{\\Bold}[1]{\\mathbf{#1}}-\\frac{1}{2} \\, {\\left(\\frac{1}{a - x} - \\frac{1}{x - 1} - \\frac{1}{x}\\right)} \\frac{\\partial}{\\partial x}u\\left(x\\right) + \\frac{{\\left({\\left(v + 1\\right)} v x - a h\\right)} u\\left(x\\right)}{4 \\, {\\left(a - x\\right)} {\\left(x - 1\\right)} x} + \\frac{\\partial^{2}}{(\\partial x)^{2}}u\\left(x\\right)</script></html>"
      ],
      "text/latex": [
       "\\begin{math}\n",
       "\\newcommand{\\Bold}[1]{\\mathbf{#1}}-\\frac{1}{2} \\, {\\left(\\frac{1}{a - x} - \\frac{1}{x - 1} - \\frac{1}{x}\\right)} \\frac{\\partial}{\\partial x}u\\left(x\\right) + \\frac{{\\left({\\left(v + 1\\right)} v x - a h\\right)} u\\left(x\\right)}{4 \\, {\\left(a - x\\right)} {\\left(x - 1\\right)} x} + \\frac{\\partial^{2}}{(\\partial x)^{2}}u\\left(x\\right)\n",
       "\\end{math}"
      ],
      "text/plain": [
       "-1/2*(1/(a - x) - 1/(x - 1) - 1/x)*diff(u(x), x) + 1/4*((v + 1)*v*x - a*h)*u(x)/((a - x)*(x - 1)*x) + diff(u(x), x, x)"
      ]
     },
     "metadata": {},
     "output_type": "display_data"
    },
    {
     "data": {
      "text/html": [
       "<html><script type=\"math/tex; mode=display\">\\newcommand{\\Bold}[1]{\\mathbf{#1}}\\left(\\left[a, 1, 0, +\\infty\\right], \\left[\\left[\\frac{1}{2}, 0\\right], \\left[\\frac{1}{2}, 0\\right], \\left[\\frac{1}{2}, 0\\right], \\left[-\\frac{1}{2} \\, v, \\frac{1}{2} \\, v + \\frac{1}{2}\\right]\\right], \\left[\\right], \\left[\\right]\\right)</script></html>"
      ],
      "text/latex": [
       "\\begin{math}\n",
       "\\newcommand{\\Bold}[1]{\\mathbf{#1}}\\left(\\left[a, 1, 0, +\\infty\\right], \\left[\\left[\\frac{1}{2}, 0\\right], \\left[\\frac{1}{2}, 0\\right], \\left[\\frac{1}{2}, 0\\right], \\left[-\\frac{1}{2} \\, v, \\frac{1}{2} \\, v + \\frac{1}{2}\\right]\\right], \\left[\\right], \\left[\\right]\\right)\n",
       "\\end{math}"
      ],
      "text/plain": [
       "([a, 1, 0, +Infinity],\n",
       " [[1/2, 0], [1/2, 0], [1/2, 0], [-1/2*v, 1/2*v + 1/2]],\n",
       " [],\n",
       " [])"
      ]
     },
     "metadata": {},
     "output_type": "display_data"
    },
    {
     "data": {
      "text/html": [
       "<html><script type=\"math/tex; mode=display\">\\newcommand{\\Bold}[1]{\\mathbf{#1}}C_{2} \\sqrt{x} {\\rm HG}\\left(a, -\\frac{1}{4} \\, a h + \\frac{1}{4} \\, a + \\frac{1}{4}, \\frac{1}{2} \\, v + 1, -\\frac{1}{2} \\, v + \\frac{1}{2}, \\frac{3}{2}, \\frac{1}{2}, x\\right) + C_{1} {\\rm HG}\\left(a, -\\frac{1}{4} \\, a h, \\frac{1}{2} \\, v + \\frac{1}{2}, -\\frac{1}{2} \\, v, \\frac{1}{2}, \\frac{1}{2}, x\\right)</script></html>"
      ],
      "text/latex": [
       "\\begin{math}\n",
       "\\newcommand{\\Bold}[1]{\\mathbf{#1}}C_{2} \\sqrt{x} {\\rm HG}\\left(a, -\\frac{1}{4} \\, a h + \\frac{1}{4} \\, a + \\frac{1}{4}, \\frac{1}{2} \\, v + 1, -\\frac{1}{2} \\, v + \\frac{1}{2}, \\frac{3}{2}, \\frac{1}{2}, x\\right) + C_{1} {\\rm HG}\\left(a, -\\frac{1}{4} \\, a h, \\frac{1}{2} \\, v + \\frac{1}{2}, -\\frac{1}{2} \\, v, \\frac{1}{2}, \\frac{1}{2}, x\\right)\n",
       "\\end{math}"
      ],
      "text/plain": [
       "C2*sqrt(x)*HG(a, -1/4*a*h + 1/4*a + 1/4, 1/2*v + 1, -1/2*v + 1/2, 3/2, 1/2, x) + C1*HG(a, -1/4*a*h, 1/2*v + 1/2, -1/2*v, 1/2, 1/2, x)"
      ]
     },
     "metadata": {},
     "output_type": "display_data"
    }
   ],
   "source": [
    "# Lame equation (Mathematica example):\n",
    "reset()\n",
    "load('hypergeometric_heun.sage') #Routines for the symbolic solutions\n",
    "#######################  \n",
    "u = function('u')(x)\n",
    "u(x)=u\n",
    "f1 = function('f1')(x)\n",
    "f2 = function('f2')(x)\n",
    "f3 = function('f3')(x)\n",
    "#######################\n",
    "show('Lame equation: ')\n",
    "var('a,h,v');\n",
    "f1(x)=1\n",
    "f2(x)=(1/2)*((1/x)+(1/(x-1))+(1/(x-a)))\n",
    "f3(x)=(a*h-v*(v+1)*x)/(4*x*(x-1)*(x-a))\n",
    "myeqn=(f1(x)*diff(u(x),x,x)+f2(x)*diff(u(x),x)+f3(x)*u(x))\n",
    "show(myeqn)\n",
    "show(find_singularities(diffeqn=myeqn,y=u,z=x))\n",
    "myresult=find_special_ode(diffeqn=myeqn,y=u,z=x)\n",
    "show(myresult)"
   ]
  },
  {
   "cell_type": "code",
   "execution_count": 22,
   "metadata": {},
   "outputs": [
    {
     "data": {
      "text/html": [
       "<html><script type=\"math/tex; mode=display\">\\newcommand{\\Bold}[1]{\\mathbf{#1}}\\verb|Quantum-mechanical|\\phantom{\\verb!x!}\\verb|doubly|\\phantom{\\verb!x!}\\verb|anharmonic|\\phantom{\\verb!x!}\\verb|oscillator|\\phantom{\\verb!x!}\\verb|potential:|</script></html>"
      ],
      "text/latex": [
       "\\begin{math}\n",
       "\\newcommand{\\Bold}[1]{\\mathbf{#1}}\\verb|Quantum-mechanical|\\phantom{\\verb!x!}\\verb|doubly|\\phantom{\\verb!x!}\\verb|anharmonic|\\phantom{\\verb!x!}\\verb|oscillator|\\phantom{\\verb!x!}\\verb|potential:|\n",
       "\\end{math}"
      ],
      "text/plain": [
       "'Quantum-mechanical doubly anharmonic oscillator potential: '"
      ]
     },
     "metadata": {},
     "output_type": "display_data"
    },
    {
     "data": {
      "text/html": [
       "<html><script type=\"math/tex; mode=display\">\\newcommand{\\Bold}[1]{\\mathbf{#1}}-{\\left(\\eta_{1} x^{6} + \\lambda_{1} x^{4} + \\mu_{1} x^{2} - E_{1}\\right)} u\\left(x\\right) + \\frac{\\partial^{2}}{(\\partial x)^{2}}u\\left(x\\right)</script></html>"
      ],
      "text/latex": [
       "\\begin{math}\n",
       "\\newcommand{\\Bold}[1]{\\mathbf{#1}}-{\\left(\\eta_{1} x^{6} + \\lambda_{1} x^{4} + \\mu_{1} x^{2} - E_{1}\\right)} u\\left(x\\right) + \\frac{\\partial^{2}}{(\\partial x)^{2}}u\\left(x\\right)\n",
       "\\end{math}"
      ],
      "text/plain": [
       "-(eta1*x^6 + lambda1*x^4 + mu1*x^2 - E1)*u(x) + diff(u(x), x, x)"
      ]
     },
     "metadata": {},
     "output_type": "display_data"
    },
    {
     "data": {
      "text/html": [
       "<html><script type=\"math/tex; mode=display\">\\newcommand{\\Bold}[1]{\\mathbf{#1}}\\left(\\left[\\right], \\left[\\right], \\left[+\\infty\\right], \\left[4\\right]\\right)</script></html>"
      ],
      "text/latex": [
       "\\begin{math}\n",
       "\\newcommand{\\Bold}[1]{\\mathbf{#1}}\\left(\\left[\\right], \\left[\\right], \\left[+\\infty\\right], \\left[4\\right]\\right)\n",
       "\\end{math}"
      ],
      "text/plain": [
       "([], [], [+Infinity], [4])"
      ]
     },
     "metadata": {},
     "output_type": "display_data"
    },
    {
     "data": {
      "text/html": [
       "<html><script type=\"math/tex; mode=display\">\\newcommand{\\Bold}[1]{\\mathbf{#1}}\\verb|No|\\phantom{\\verb!x!}\\verb|special|\\phantom{\\verb!x!}\\verb|form|\\phantom{\\verb!x!}\\verb|is|\\phantom{\\verb!x!}\\verb|found|</script></html>"
      ],
      "text/latex": [
       "\\begin{math}\n",
       "\\newcommand{\\Bold}[1]{\\mathbf{#1}}\\verb|No|\\phantom{\\verb!x!}\\verb|special|\\phantom{\\verb!x!}\\verb|form|\\phantom{\\verb!x!}\\verb|is|\\phantom{\\verb!x!}\\verb|found|\n",
       "\\end{math}"
      ],
      "text/plain": [
       "'No special form is found'"
      ]
     },
     "metadata": {},
     "output_type": "display_data"
    },
    {
     "data": {
      "text/html": [
       "<html><script type=\"math/tex; mode=display\">\\newcommand{\\Bold}[1]{\\mathbf{#1}}C_{1} \\sqrt{x^{2}} {\\rm HB}\\left(-\\frac{1}{4} \\, E_{1} - \\frac{3 \\, \\lambda_{1}}{8 \\, \\sqrt{\\eta_{1}}}, \\frac{\\lambda_{1}^{2}}{16 \\, \\eta_{1}} - \\frac{1}{4} \\, \\mu_{1} + \\frac{5}{4} \\, \\sqrt{\\eta_{1}}, \\frac{3}{2}, \\frac{\\lambda_{1}}{2 \\, \\sqrt{\\eta_{1}}}, \\sqrt{\\eta_{1}}, x^{2}\\right) e^{\\left(\\frac{1}{4} \\, \\sqrt{\\eta_{1}} x^{4} + \\frac{\\lambda_{1} x^{2}}{4 \\, \\sqrt{\\eta_{1}}}\\right)} + C_{2} {\\rm HB}\\left(-\\frac{1}{4} \\, E_{1} - \\frac{\\lambda_{1}}{8 \\, \\sqrt{\\eta_{1}}}, \\frac{\\lambda_{1}^{2}}{16 \\, \\eta_{1}} - \\frac{1}{4} \\, \\mu_{1} + \\frac{3}{4} \\, \\sqrt{\\eta_{1}}, \\frac{1}{2}, \\frac{\\lambda_{1}}{2 \\, \\sqrt{\\eta_{1}}}, \\sqrt{\\eta_{1}}, x^{2}\\right) e^{\\left(\\frac{1}{4} \\, \\sqrt{\\eta_{1}} x^{4} + \\frac{\\lambda_{1} x^{2}}{4 \\, \\sqrt{\\eta_{1}}}\\right)}</script></html>"
      ],
      "text/latex": [
       "\\begin{math}\n",
       "\\newcommand{\\Bold}[1]{\\mathbf{#1}}C_{1} \\sqrt{x^{2}} {\\rm HB}\\left(-\\frac{1}{4} \\, E_{1} - \\frac{3 \\, \\lambda_{1}}{8 \\, \\sqrt{\\eta_{1}}}, \\frac{\\lambda_{1}^{2}}{16 \\, \\eta_{1}} - \\frac{1}{4} \\, \\mu_{1} + \\frac{5}{4} \\, \\sqrt{\\eta_{1}}, \\frac{3}{2}, \\frac{\\lambda_{1}}{2 \\, \\sqrt{\\eta_{1}}}, \\sqrt{\\eta_{1}}, x^{2}\\right) e^{\\left(\\frac{1}{4} \\, \\sqrt{\\eta_{1}} x^{4} + \\frac{\\lambda_{1} x^{2}}{4 \\, \\sqrt{\\eta_{1}}}\\right)} + C_{2} {\\rm HB}\\left(-\\frac{1}{4} \\, E_{1} - \\frac{\\lambda_{1}}{8 \\, \\sqrt{\\eta_{1}}}, \\frac{\\lambda_{1}^{2}}{16 \\, \\eta_{1}} - \\frac{1}{4} \\, \\mu_{1} + \\frac{3}{4} \\, \\sqrt{\\eta_{1}}, \\frac{1}{2}, \\frac{\\lambda_{1}}{2 \\, \\sqrt{\\eta_{1}}}, \\sqrt{\\eta_{1}}, x^{2}\\right) e^{\\left(\\frac{1}{4} \\, \\sqrt{\\eta_{1}} x^{4} + \\frac{\\lambda_{1} x^{2}}{4 \\, \\sqrt{\\eta_{1}}}\\right)}\n",
       "\\end{math}"
      ],
      "text/plain": [
       "C1*sqrt(x^2)*HB(-1/4*E1 - 3/8*lambda1/sqrt(eta1), 1/16*lambda1^2/eta1 - 1/4*mu1 + 5/4*sqrt(eta1), 3/2, 1/2*lambda1/sqrt(eta1), sqrt(eta1), x^2)*e^(1/4*sqrt(eta1)*x^4 + 1/4*lambda1*x^2/sqrt(eta1)) + C2*HB(-1/4*E1 - 1/8*lambda1/sqrt(eta1), 1/16*lambda1^2/eta1 - 1/4*mu1 + 3/4*sqrt(eta1), 1/2, 1/2*lambda1/sqrt(eta1), sqrt(eta1), x^2)*e^(1/4*sqrt(eta1)*x^4 + 1/4*lambda1*x^2/sqrt(eta1))"
      ]
     },
     "metadata": {},
     "output_type": "display_data"
    }
   ],
   "source": [
    "# Quantum-mechanical doubly anharmonic oscillator potential (Mathematica example):\n",
    "reset()\n",
    "load('hypergeometric_heun.sage') #Routines for the symbolic solutions\n",
    "#######################  \n",
    "u = function('u')(x)\n",
    "u(x)=u\n",
    "f1 = function('f1')(x)\n",
    "f2 = function('f2')(x)\n",
    "f3 = function('f3')(x)\n",
    "#######################\n",
    "show('Quantum-mechanical doubly anharmonic oscillator potential: ')\n",
    "var('E1,mu1,lambda1,eta1');\n",
    "f1(x)=1\n",
    "f2(x)=0\n",
    "f3(x)=E1-mu1*x^2-lambda1*x^4-eta1*x^6\n",
    "myeqn=(f1(x)*diff(u(x),x,x)+f2(x)*diff(u(x),x)+f3(x)*u(x))\n",
    "show(myeqn)\n",
    "show(find_singularities(diffeqn=myeqn,y=u,z=x))\n",
    "myresult=find_special_ode(diffeqn=myeqn,y=u,z=x)\n",
    "var('t')\n",
    "myeqn2=ode_change_of_variable(diffeqn=myeqn,y=u,z=x,newvar=t,transformation=t^(1/2))\n",
    "myresult=find_special_ode(diffeqn=myeqn2,y=u,z=t)\n",
    "myresult=myresult.subs(t==x^2)\n",
    "show(myresult)"
   ]
  },
  {
   "cell_type": "code",
   "execution_count": 23,
   "metadata": {},
   "outputs": [
    {
     "data": {
      "text/html": [
       "<html><script type=\"math/tex; mode=display\">\\newcommand{\\Bold}[1]{\\mathbf{#1}}\\verb|The|\\phantom{\\verb!x!}\\verb|classical|\\phantom{\\verb!x!}\\verb|anharmonic|\\phantom{\\verb!x!}\\verb|oscillator|\\phantom{\\verb!x!}\\verb|equation:|</script></html>"
      ],
      "text/latex": [
       "\\begin{math}\n",
       "\\newcommand{\\Bold}[1]{\\mathbf{#1}}\\verb|The|\\phantom{\\verb!x!}\\verb|classical|\\phantom{\\verb!x!}\\verb|anharmonic|\\phantom{\\verb!x!}\\verb|oscillator|\\phantom{\\verb!x!}\\verb|equation:|\n",
       "\\end{math}"
      ],
      "text/plain": [
       "'The classical anharmonic oscillator equation: '"
      ]
     },
     "metadata": {},
     "output_type": "display_data"
    },
    {
     "data": {
      "text/html": [
       "<html><script type=\"math/tex; mode=display\">\\newcommand{\\Bold}[1]{\\mathbf{#1}}{\\left(\\lambda_{4} x^{4} + \\lambda_{2} x^{2} + \\lambda_{1}\\right)} u\\left(x\\right) + \\frac{\\partial^{2}}{(\\partial x)^{2}}u\\left(x\\right)</script></html>"
      ],
      "text/latex": [
       "\\begin{math}\n",
       "\\newcommand{\\Bold}[1]{\\mathbf{#1}}{\\left(\\lambda_{4} x^{4} + \\lambda_{2} x^{2} + \\lambda_{1}\\right)} u\\left(x\\right) + \\frac{\\partial^{2}}{(\\partial x)^{2}}u\\left(x\\right)\n",
       "\\end{math}"
      ],
      "text/plain": [
       "(lambda4*x^4 + lambda2*x^2 + lambda1)*u(x) + diff(u(x), x, x)"
      ]
     },
     "metadata": {},
     "output_type": "display_data"
    },
    {
     "data": {
      "text/html": [
       "<html><script type=\"math/tex; mode=display\">\\newcommand{\\Bold}[1]{\\mathbf{#1}}\\left(\\left[\\right], \\left[\\right], \\left[+\\infty\\right], \\left[3\\right]\\right)</script></html>"
      ],
      "text/latex": [
       "\\begin{math}\n",
       "\\newcommand{\\Bold}[1]{\\mathbf{#1}}\\left(\\left[\\right], \\left[\\right], \\left[+\\infty\\right], \\left[3\\right]\\right)\n",
       "\\end{math}"
      ],
      "text/plain": [
       "([], [], [+Infinity], [3])"
      ]
     },
     "metadata": {},
     "output_type": "display_data"
    },
    {
     "data": {
      "text/html": [
       "<html><script type=\"math/tex; mode=display\">\\newcommand{\\Bold}[1]{\\mathbf{#1}}C_{2} {\\rm HT}\\left(-\\lambda_{1} + \\frac{\\lambda_{2}^{2}}{4 \\, \\lambda_{4}}, -2 \\, \\sqrt{-\\lambda_{4}}, \\frac{\\lambda_{2}}{\\sqrt{-\\lambda_{4}}}, 0, -2 \\, \\sqrt{-\\lambda_{4}}, x\\right) e^{\\left(-\\frac{2}{3} \\, \\sqrt{-\\lambda_{4}} x^{3} - \\frac{\\lambda_{4} x^{3}}{3 \\, \\sqrt{-\\lambda_{4}}} + \\frac{\\lambda_{2} x}{2 \\, \\sqrt{-\\lambda_{4}}}\\right)} + C_{1} {\\rm HT}\\left(-\\lambda_{1} + \\frac{\\lambda_{2}^{2}}{4 \\, \\lambda_{4}}, 2 \\, \\sqrt{-\\lambda_{4}}, -\\frac{\\lambda_{2}}{\\sqrt{-\\lambda_{4}}}, 0, 2 \\, \\sqrt{-\\lambda_{4}}, x\\right) e^{\\left(-\\frac{\\lambda_{4} x^{3}}{3 \\, \\sqrt{-\\lambda_{4}}} - \\frac{\\lambda_{2} x}{2 \\, \\sqrt{-\\lambda_{4}}}\\right)}</script></html>"
      ],
      "text/latex": [
       "\\begin{math}\n",
       "\\newcommand{\\Bold}[1]{\\mathbf{#1}}C_{2} {\\rm HT}\\left(-\\lambda_{1} + \\frac{\\lambda_{2}^{2}}{4 \\, \\lambda_{4}}, -2 \\, \\sqrt{-\\lambda_{4}}, \\frac{\\lambda_{2}}{\\sqrt{-\\lambda_{4}}}, 0, -2 \\, \\sqrt{-\\lambda_{4}}, x\\right) e^{\\left(-\\frac{2}{3} \\, \\sqrt{-\\lambda_{4}} x^{3} - \\frac{\\lambda_{4} x^{3}}{3 \\, \\sqrt{-\\lambda_{4}}} + \\frac{\\lambda_{2} x}{2 \\, \\sqrt{-\\lambda_{4}}}\\right)} + C_{1} {\\rm HT}\\left(-\\lambda_{1} + \\frac{\\lambda_{2}^{2}}{4 \\, \\lambda_{4}}, 2 \\, \\sqrt{-\\lambda_{4}}, -\\frac{\\lambda_{2}}{\\sqrt{-\\lambda_{4}}}, 0, 2 \\, \\sqrt{-\\lambda_{4}}, x\\right) e^{\\left(-\\frac{\\lambda_{4} x^{3}}{3 \\, \\sqrt{-\\lambda_{4}}} - \\frac{\\lambda_{2} x}{2 \\, \\sqrt{-\\lambda_{4}}}\\right)}\n",
       "\\end{math}"
      ],
      "text/plain": [
       "C2*HT(-lambda1 + 1/4*lambda2^2/lambda4, -2*sqrt(-lambda4), lambda2/sqrt(-lambda4), 0, -2*sqrt(-lambda4), x)*e^(-2/3*sqrt(-lambda4)*x^3 - 1/3*lambda4*x^3/sqrt(-lambda4) + 1/2*lambda2*x/sqrt(-lambda4)) + C1*HT(-lambda1 + 1/4*lambda2^2/lambda4, 2*sqrt(-lambda4), -lambda2/sqrt(-lambda4), 0, 2*sqrt(-lambda4), x)*e^(-1/3*lambda4*x^3/sqrt(-lambda4) - 1/2*lambda2*x/sqrt(-lambda4))"
      ]
     },
     "metadata": {},
     "output_type": "display_data"
    },
    {
     "data": {
      "text/html": [
       "<html><script type=\"math/tex; mode=display\">\\newcommand{\\Bold}[1]{\\mathbf{#1}}1</script></html>"
      ],
      "text/latex": [
       "\\begin{math}\n",
       "\\newcommand{\\Bold}[1]{\\mathbf{#1}}1\n",
       "\\end{math}"
      ],
      "text/plain": [
       "1"
      ]
     },
     "metadata": {},
     "output_type": "display_data"
    }
   ],
   "source": [
    "# The classical anharmonic oscillator equation (Mathematica example):\n",
    "reset()\n",
    "load('hypergeometric_heun.sage') #Routines for the symbolic solutions\n",
    "#######################  \n",
    "u = function('u')(x)\n",
    "u(x)=u\n",
    "f1 = function('f1')(x)\n",
    "f2 = function('f2')(x)\n",
    "f3 = function('f3')(x)\n",
    "#######################\n",
    "show('The classical anharmonic oscillator equation: ')\n",
    "var('lambda1,lambda2,lambda3,lambda4');\n",
    "f1(x)=1\n",
    "f2(x)=0\n",
    "f3(x)=lambda1+(lambda2*x^2)+(lambda4*x^4)\n",
    "myeqn=(f1(x)*diff(u(x),x,x)+f2(x)*diff(u(x),x)+f3(x)*u(x))\n",
    "show(myeqn)\n",
    "show(find_singularities(diffeqn=myeqn,y=u,z=x))\n",
    "myresult=find_special_ode(diffeqn=myeqn,y=u,z=x)\n",
    "show(myresult)\n",
    "exponentialofC2=e^(-2/3*sqrt(-lambda4)*x^3 - 1/3*lambda4*x^3/sqrt(-lambda4) + 1/2*lambda2*x/sqrt(-lambda4))\n",
    "exponentialofC1=e^(-1/3*lambda4*x^3/sqrt(-lambda4) - 1/2*lambda2*x/sqrt(-lambda4))\n",
    "show((exponentialofC1*exponentialofC2).canonicalize_radical())"
   ]
  },
  {
   "cell_type": "code",
   "execution_count": 24,
   "metadata": {},
   "outputs": [
    {
     "data": {
      "text/html": [
       "<html><script type=\"math/tex; mode=display\">\\newcommand{\\Bold}[1]{\\mathbf{#1}}\\verb|Confluent|\\phantom{\\verb!x!}\\verb|Heun|\\phantom{\\verb!x!}\\verb|Equation:|\\phantom{\\verb!x!}\\verb|(57)|\\phantom{\\verb!x!}\\verb|of|\\phantom{\\verb!x!}\\verb|arXiv|\\phantom{\\verb!x!}\\verb|1109.3486|\\phantom{\\verb!x!}\\verb|[hep-th]:|</script></html>"
      ],
      "text/latex": [
       "\\begin{math}\n",
       "\\newcommand{\\Bold}[1]{\\mathbf{#1}}\\verb|Confluent|\\phantom{\\verb!x!}\\verb|Heun|\\phantom{\\verb!x!}\\verb|Equation:|\\phantom{\\verb!x!}\\verb|(57)|\\phantom{\\verb!x!}\\verb|of|\\phantom{\\verb!x!}\\verb|arXiv|\\phantom{\\verb!x!}\\verb|1109.3486|\\phantom{\\verb!x!}\\verb|[hep-th]:|\n",
       "\\end{math}"
      ],
      "text/plain": [
       "'Confluent Heun Equation: (57) of arXiv 1109.3486 [hep-th]: '"
      ]
     },
     "metadata": {},
     "output_type": "display_data"
    },
    {
     "data": {
      "text/html": [
       "<html><script type=\"math/tex; mode=display\">\\newcommand{\\Bold}[1]{\\mathbf{#1}}\\left(\\left[1, 0\\right], \\left[\\left[\\frac{1}{2} \\, c, 0\\right], \\left[\\frac{1}{2}, 0\\right]\\right], \\left[+\\infty\\right], \\left[1\\right]\\right)</script></html>"
      ],
      "text/latex": [
       "\\begin{math}\n",
       "\\newcommand{\\Bold}[1]{\\mathbf{#1}}\\left(\\left[1, 0\\right], \\left[\\left[\\frac{1}{2} \\, c, 0\\right], \\left[\\frac{1}{2}, 0\\right]\\right], \\left[+\\infty\\right], \\left[1\\right]\\right)\n",
       "\\end{math}"
      ],
      "text/plain": [
       "([1, 0], [[1/2*c, 0], [1/2, 0]], [+Infinity], [1])"
      ]
     },
     "metadata": {},
     "output_type": "display_data"
    },
    {
     "data": {
      "text/html": [
       "<html><script type=\"math/tex; mode=display\">\\newcommand{\\Bold}[1]{\\mathbf{#1}}C_{1} {\\left(x - 1\\right)}^{\\frac{1}{2} \\, c} \\sqrt{x} {\\rm HC}\\left(0, \\frac{1}{2}, \\frac{1}{2} \\, c, \\frac{1}{4} \\, m^{2}, -\\frac{1}{4} \\, m^{2} + \\frac{1}{8} \\, c + \\frac{1}{4}, x\\right) + C_{2} {\\left(x - 1\\right)}^{\\frac{1}{2} \\, c} {\\rm HC}\\left(0, -\\frac{1}{2}, \\frac{1}{2} \\, c, \\frac{1}{4} \\, m^{2}, -\\frac{1}{4} \\, m^{2} + \\frac{1}{8} \\, c + \\frac{1}{4}, x\\right)</script></html>"
      ],
      "text/latex": [
       "\\begin{math}\n",
       "\\newcommand{\\Bold}[1]{\\mathbf{#1}}C_{1} {\\left(x - 1\\right)}^{\\frac{1}{2} \\, c} \\sqrt{x} {\\rm HC}\\left(0, \\frac{1}{2}, \\frac{1}{2} \\, c, \\frac{1}{4} \\, m^{2}, -\\frac{1}{4} \\, m^{2} + \\frac{1}{8} \\, c + \\frac{1}{4}, x\\right) + C_{2} {\\left(x - 1\\right)}^{\\frac{1}{2} \\, c} {\\rm HC}\\left(0, -\\frac{1}{2}, \\frac{1}{2} \\, c, \\frac{1}{4} \\, m^{2}, -\\frac{1}{4} \\, m^{2} + \\frac{1}{8} \\, c + \\frac{1}{4}, x\\right)\n",
       "\\end{math}"
      ],
      "text/plain": [
       "C1*(x - 1)^(1/2*c)*sqrt(x)*HC(0, 1/2, 1/2*c, 1/4*m^2, -1/4*m^2 + 1/8*c + 1/4, x) + C2*(x - 1)^(1/2*c)*HC(0, -1/2, 1/2*c, 1/4*m^2, -1/4*m^2 + 1/8*c + 1/4, x)"
      ]
     },
     "metadata": {},
     "output_type": "display_data"
    }
   ],
   "source": [
    "# Confluent Heun Equation: (57) of arXiv 1109.3486 [hep-th]:\n",
    "reset()\n",
    "load('hypergeometric_heun.sage') #Routines for the symbolic solutions\n",
    "#######################  \n",
    "u = function('u')(x)\n",
    "u(x)=u\n",
    "f1 = function('f1')(x)\n",
    "f2 = function('f2')(x)\n",
    "f3 = function('f3')(x)\n",
    "#######################\n",
    "show('Confluent Heun Equation: (57) of arXiv 1109.3486 [hep-th]: ')\n",
    "var('c,m')\n",
    "f1(x)=1\n",
    "f2(x)=((1/2)/x)+(1-(c/2))/(x-1)\n",
    "f3(x)=(m^2)/(4*x)\n",
    "\n",
    "myeqn=(f1(x)*diff(u(x),x,x)+f2(x)*diff(u(x),x)+f3(x)*u(x))\n",
    "show(find_singularities(diffeqn=myeqn,y=u,z=x))\n",
    "myresult=find_special_ode(diffeqn=myeqn,y=u,z=x)\n",
    "show(myresult)"
   ]
  },
  {
   "cell_type": "code",
   "execution_count": 25,
   "metadata": {},
   "outputs": [
    {
     "data": {
      "text/html": [
       "<html><script type=\"math/tex; mode=display\">\\newcommand{\\Bold}[1]{\\mathbf{#1}}\\verb|Legendre|\\phantom{\\verb!x!}\\verb|equation:|</script></html>"
      ],
      "text/latex": [
       "\\begin{math}\n",
       "\\newcommand{\\Bold}[1]{\\mathbf{#1}}\\verb|Legendre|\\phantom{\\verb!x!}\\verb|equation:|\n",
       "\\end{math}"
      ],
      "text/plain": [
       "'Legendre equation: '"
      ]
     },
     "metadata": {},
     "output_type": "display_data"
    },
    {
     "data": {
      "text/html": [
       "<html><script type=\"math/tex; mode=display\">\\newcommand{\\Bold}[1]{\\mathbf{#1}}\\left(\\left[-1, 1, +\\infty\\right], \\left[\\left[0\\right], \\left[0\\right], \\left[-n, n + 1\\right]\\right], \\left[\\right], \\left[\\right]\\right)</script></html>"
      ],
      "text/latex": [
       "\\begin{math}\n",
       "\\newcommand{\\Bold}[1]{\\mathbf{#1}}\\left(\\left[-1, 1, +\\infty\\right], \\left[\\left[0\\right], \\left[0\\right], \\left[-n, n + 1\\right]\\right], \\left[\\right], \\left[\\right]\\right)\n",
       "\\end{math}"
      ],
      "text/plain": [
       "([-1, 1, +Infinity], [[0], [0], [-n, n + 1]], [], [])"
      ]
     },
     "metadata": {},
     "output_type": "display_data"
    },
    {
     "data": {
      "text/html": [
       "<html><script type=\"math/tex; mode=display\">\\newcommand{\\Bold}[1]{\\mathbf{#1}}{\\left(C_{1} + C_{2}\\right)} \\,_2F_1\\left(\\begin{matrix} -n,n + 1 \\\\ 1 \\end{matrix} ; -\\frac{1}{2} \\, x + \\frac{1}{2} \\right)</script></html>"
      ],
      "text/latex": [
       "\\begin{math}\n",
       "\\newcommand{\\Bold}[1]{\\mathbf{#1}}{\\left(C_{1} + C_{2}\\right)} \\,_2F_1\\left(\\begin{matrix} -n,n + 1 \\\\ 1 \\end{matrix} ; -\\frac{1}{2} \\, x + \\frac{1}{2} \\right)\n",
       "\\end{math}"
      ],
      "text/plain": [
       "(C1 + C2)*hypergeometric((-n, n + 1), (1,), -1/2*x + 1/2)"
      ]
     },
     "metadata": {},
     "output_type": "display_data"
    }
   ],
   "source": [
    "# Legendre equation:\n",
    "reset()\n",
    "load('hypergeometric_heun.sage') #Routines for the symbolic solutions\n",
    "#######################  \n",
    "u = function('u')(x)\n",
    "u(x)=u\n",
    "f1 = function('f1')(x)\n",
    "f2 = function('f2')(x)\n",
    "f3 = function('f3')(x)\n",
    "#######################\n",
    "show('Legendre equation: ')\n",
    "var('n')\n",
    "f1(x)=1-x^2\n",
    "f2(x)=-2*x\n",
    "f3(x)=n*(n+1)\n",
    "\n",
    "myeqn=(f1(x)*diff(u(x),x,x)+f2(x)*diff(u(x),x)+f3(x)*u(x))\n",
    "show(find_singularities(diffeqn=myeqn,y=u,z=x))\n",
    "myresult=find_special_ode(diffeqn=myeqn,y=u,z=x)\n",
    "show(myresult)"
   ]
  },
  {
   "cell_type": "code",
   "execution_count": 26,
   "metadata": {},
   "outputs": [
    {
     "data": {
      "text/html": [
       "<html><script type=\"math/tex; mode=display\">\\newcommand{\\Bold}[1]{\\mathbf{#1}}\\verb|The|\\phantom{\\verb!x!}\\verb|Hermite|\\phantom{\\verb!x!}\\verb|equation:|</script></html>"
      ],
      "text/latex": [
       "\\begin{math}\n",
       "\\newcommand{\\Bold}[1]{\\mathbf{#1}}\\verb|The|\\phantom{\\verb!x!}\\verb|Hermite|\\phantom{\\verb!x!}\\verb|equation:|\n",
       "\\end{math}"
      ],
      "text/plain": [
       "'The Hermite equation: '"
      ]
     },
     "metadata": {},
     "output_type": "display_data"
    },
    {
     "data": {
      "text/html": [
       "<html><script type=\"math/tex; mode=display\">\\newcommand{\\Bold}[1]{\\mathbf{#1}}-2 \\, a u\\left(x\\right) - 2 \\, x \\frac{\\partial}{\\partial x}u\\left(x\\right) + \\frac{\\partial^{2}}{(\\partial x)^{2}}u\\left(x\\right)</script></html>"
      ],
      "text/latex": [
       "\\begin{math}\n",
       "\\newcommand{\\Bold}[1]{\\mathbf{#1}}-2 \\, a u\\left(x\\right) - 2 \\, x \\frac{\\partial}{\\partial x}u\\left(x\\right) + \\frac{\\partial^{2}}{(\\partial x)^{2}}u\\left(x\\right)\n",
       "\\end{math}"
      ],
      "text/plain": [
       "-2*a*u(x) - 2*x*diff(u(x), x) + diff(u(x), x, x)"
      ]
     },
     "metadata": {},
     "output_type": "display_data"
    },
    {
     "data": {
      "text/html": [
       "<html><script type=\"math/tex; mode=display\">\\newcommand{\\Bold}[1]{\\mathbf{#1}}\\left(\\left[\\right], \\left[\\right], \\left[+\\infty\\right], \\left[2\\right]\\right)</script></html>"
      ],
      "text/latex": [
       "\\begin{math}\n",
       "\\newcommand{\\Bold}[1]{\\mathbf{#1}}\\left(\\left[\\right], \\left[\\right], \\left[+\\infty\\right], \\left[2\\right]\\right)\n",
       "\\end{math}"
      ],
      "text/plain": [
       "([], [], [+Infinity], [2])"
      ]
     },
     "metadata": {},
     "output_type": "display_data"
    },
    {
     "data": {
      "text/html": [
       "<html><script type=\"math/tex; mode=display\">\\newcommand{\\Bold}[1]{\\mathbf{#1}}\\verb|No|\\phantom{\\verb!x!}\\verb|special|\\phantom{\\verb!x!}\\verb|form|\\phantom{\\verb!x!}\\verb|is|\\phantom{\\verb!x!}\\verb|found|</script></html>"
      ],
      "text/latex": [
       "\\begin{math}\n",
       "\\newcommand{\\Bold}[1]{\\mathbf{#1}}\\verb|No|\\phantom{\\verb!x!}\\verb|special|\\phantom{\\verb!x!}\\verb|form|\\phantom{\\verb!x!}\\verb|is|\\phantom{\\verb!x!}\\verb|found|\n",
       "\\end{math}"
      ],
      "text/plain": [
       "'No special form is found'"
      ]
     },
     "metadata": {},
     "output_type": "display_data"
    },
    {
     "data": {
      "text/html": [
       "<html><script type=\"math/tex; mode=display\">\\newcommand{\\Bold}[1]{\\mathbf{#1}}C_{1} M\\left(\\frac{1}{2} \\, a + \\frac{1}{2}, \\frac{3}{2}, z\\right) + C_{2} U\\left(\\frac{1}{2} \\, a + \\frac{1}{2}, \\frac{3}{2}, z\\right)</script></html>"
      ],
      "text/latex": [
       "\\begin{math}\n",
       "\\newcommand{\\Bold}[1]{\\mathbf{#1}}C_{1} M\\left(\\frac{1}{2} \\, a + \\frac{1}{2}, \\frac{3}{2}, z\\right) + C_{2} U\\left(\\frac{1}{2} \\, a + \\frac{1}{2}, \\frac{3}{2}, z\\right)\n",
       "\\end{math}"
      ],
      "text/plain": [
       "C1*hypergeometric_M(1/2*a + 1/2, 3/2, z) + C2*hypergeometric_U(1/2*a + 1/2, 3/2, z)"
      ]
     },
     "metadata": {},
     "output_type": "display_data"
    }
   ],
   "source": [
    "#  The Hermite equation:\n",
    "reset()\n",
    "load('hypergeometric_heun.sage') #Routines for the symbolic solutions\n",
    "#######################  \n",
    "u = function('u')(x)\n",
    "u(x)=u\n",
    "f1 = function('f1')(x)\n",
    "f2 = function('f2')(x)\n",
    "f3 = function('f3')(x)\n",
    "#######################\n",
    "show('The Hermite equation: ')\n",
    "var('a')\n",
    "f1(x)=1\n",
    "f2(x)=-2*x\n",
    "f3(x)=-2*a\n",
    "\n",
    "myeqn=(f1(x)*diff(u(x),x,x)+f2(x)*diff(u(x),x)+f3(x)*u(x))\n",
    "show(myeqn)\n",
    "show(find_singularities(diffeqn=myeqn,y=u,z=x))\n",
    "myresult=find_special_ode(diffeqn=myeqn,y=u,z=x)\n",
    "var('z')\n",
    "myeqn2=ode_change_of_variable(diffeqn=myeqn,y=u,z=x,newvar=z,transformation=z^(1/2))\n",
    "myresult=find_special_ode(diffeqn=myeqn2,y=u,z=z)\n",
    "show(myresult)"
   ]
  },
  {
   "cell_type": "code",
   "execution_count": null,
   "metadata": {},
   "outputs": [],
   "source": []
  }
 ],
 "metadata": {
  "kernelspec": {
   "display_name": "SageMath 9.2",
   "language": "sage",
   "name": "sagemath"
  },
  "language_info": {
   "codemirror_mode": {
    "name": "ipython",
    "version": 3
   },
   "file_extension": ".py",
   "mimetype": "text/x-python",
   "name": "python",
   "nbconvert_exporter": "python",
   "pygments_lexer": "ipython3",
   "version": "3.7.7"
  }
 },
 "nbformat": 4,
 "nbformat_minor": 2
}
